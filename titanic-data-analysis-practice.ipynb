{
 "cells": [
  {
   "cell_type": "markdown",
   "id": "6e4379e2",
   "metadata": {
    "papermill": {
     "duration": 0.0793,
     "end_time": "2022-03-06T17:35:54.384700",
     "exception": false,
     "start_time": "2022-03-06T17:35:54.305400",
     "status": "completed"
    },
    "tags": []
   },
   "source": [
    "# Titanic Data Analysis Practice\n",
    "\n",
    "A first look at data analysis using Python. \n",
    "\n",
    "### Guided by a tutorial by [Ken Jee](https://www.youtube.com/watch?v=I3FBJdiExcg&list=LL&index=5&t=1356s). His notebook can be found [here](https://www.kaggle.com/kenjee/titanic-project-example).\n",
    "\n",
    "\n",
    "## Goals:\n",
    "- Analyze and visualize existing data regarding passengers of the RMS Titanic\n",
    "- Use existing data to predict if a given person survived the RMS Titanic disaster\n",
    "- Explore and practice using tools that data scientists employ"
   ]
  },
  {
   "cell_type": "code",
   "execution_count": 1,
   "id": "4a082e92",
   "metadata": {
    "execution": {
     "iopub.execute_input": "2022-03-06T17:35:54.539783Z",
     "iopub.status.busy": "2022-03-06T17:35:54.537982Z",
     "iopub.status.idle": "2022-03-06T17:35:55.636161Z",
     "shell.execute_reply": "2022-03-06T17:35:55.636674Z",
     "shell.execute_reply.started": "2022-03-06T00:38:29.724573Z"
    },
    "papermill": {
     "duration": 1.177608,
     "end_time": "2022-03-06T17:35:55.637002",
     "exception": false,
     "start_time": "2022-03-06T17:35:54.459394",
     "status": "completed"
    },
    "tags": []
   },
   "outputs": [],
   "source": [
    "# import relevant packages\n",
    "import numpy as np\n",
    "import pandas as pd\n",
    "import seaborn as sns\n",
    "import matplotlib.pyplot as plt\n",
    "\n",
    "%matplotlib inline\n",
    "\n"
   ]
  },
  {
   "cell_type": "markdown",
   "id": "96b9b164",
   "metadata": {
    "papermill": {
     "duration": 0.074404,
     "end_time": "2022-03-06T17:35:55.786882",
     "exception": false,
     "start_time": "2022-03-06T17:35:55.712478",
     "status": "completed"
    },
    "tags": []
   },
   "source": [
    "## Import the Data\n",
    "\n",
    "Import the data provided by [Kaggle](https://www.kaggle.com/c/titanic). \n",
    "\n",
    "There are two CSV files:\n",
    "- train.csv contains information on 891 passengers and indicates whether or not they survived. This is also referred to as the 'ground truth'.\n",
    "- test.csv contains information on 418 passengers but does not indicate if they survived. This data is used to test any predictive models that are created.\n",
    "\n",
    "\n",
    "\n",
    "The following table provides definitions for the variables:\n",
    "\n",
    "| Variable | Definition                                  | Key                                            |\n",
    "|:----------|:---------------------------------------------|:------------------------------------------------|\n",
    "| survival | Whether or not a person survived            | 0 = No, 1 = Yes                                |\n",
    "|Name| Name of passenger in the format 'Last, Title First (Maiden Name)' |                                |\n",
    "| pclass   | Ticket Class                                | 1 = 1st class, 2 = 2nd class, 3 = 3rd class    |\n",
    "| sex      | Sex                                         | 'male' or 'female'                             |\n",
    "| Age      | Age in years (fractional if younger than 1) |                                                |\n",
    "| sibsp    | # of siblings or spouses aboard the Titanic |                                                |\n",
    "| parch    | # of parents or children aboard the Titanic |                                                |\n",
    "| ticket   | Ticket ID/number                            |                                                |\n",
    "| fare     | Passenger Fare paid                         |                                                |\n",
    "| cabin    | Cabin number                                |                                                |\n",
    "| embarked | Port of Embarkation                         | C = Cherbourg, Q = Queenstown, S = Southampton |\n",
    "\n",
    "\n",
    "\n",
    "\n",
    "Our dependent variable is whether or not a person survived."
   ]
  },
  {
   "cell_type": "code",
   "execution_count": 2,
   "id": "e9360092",
   "metadata": {
    "execution": {
     "iopub.execute_input": "2022-03-06T17:35:55.939836Z",
     "iopub.status.busy": "2022-03-06T17:35:55.939135Z",
     "iopub.status.idle": "2022-03-06T17:35:55.969029Z",
     "shell.execute_reply": "2022-03-06T17:35:55.969547Z",
     "shell.execute_reply.started": "2022-03-06T00:38:29.73494Z"
    },
    "papermill": {
     "duration": 0.109488,
     "end_time": "2022-03-06T17:35:55.969796",
     "exception": false,
     "start_time": "2022-03-06T17:35:55.860308",
     "status": "completed"
    },
    "tags": []
   },
   "outputs": [],
   "source": [
    "# import the data\n",
    "training = pd.read_csv('../input/titanic/train.csv')\n",
    "test = pd.read_csv('../input/titanic/test.csv')\n"
   ]
  },
  {
   "cell_type": "code",
   "execution_count": 3,
   "id": "4c7a99c1",
   "metadata": {
    "execution": {
     "iopub.execute_input": "2022-03-06T17:35:56.125109Z",
     "iopub.status.busy": "2022-03-06T17:35:56.124429Z",
     "iopub.status.idle": "2022-03-06T17:35:56.147135Z",
     "shell.execute_reply": "2022-03-06T17:35:56.147629Z",
     "shell.execute_reply.started": "2022-03-06T00:38:29.773411Z"
    },
    "papermill": {
     "duration": 0.100682,
     "end_time": "2022-03-06T17:35:56.147817",
     "exception": false,
     "start_time": "2022-03-06T17:35:56.047135",
     "status": "completed"
    },
    "tags": []
   },
   "outputs": [
    {
     "data": {
      "text/plain": [
       "Index(['PassengerId', 'Survived', 'Pclass', 'Name', 'Sex', 'Age', 'SibSp',\n",
       "       'Parch', 'Ticket', 'Fare', 'Cabin', 'Embarked', 'train_test'],\n",
       "      dtype='object')"
      ]
     },
     "execution_count": 3,
     "metadata": {},
     "output_type": "execute_result"
    }
   ],
   "source": [
    "# combine the data into a single dataset\n",
    "# - create an additional column train_test that indicates if data in a row is training data (1) or test data (0) (bool-like)\n",
    "# - create an additional column in test.csv 'Survived' to match training.csv, but make value NaN\n",
    "# - combine the data into a single data set all_data\n",
    "\n",
    "training['train_test'] = 1\n",
    "test['train_test'] = 0\n",
    "test['Survived'] = np.NaN\n",
    "all_data = pd.concat([training, test])\n",
    "\n",
    "all_data.columns "
   ]
  },
  {
   "cell_type": "markdown",
   "id": "e64052fb",
   "metadata": {
    "papermill": {
     "duration": 0.074063,
     "end_time": "2022-03-06T17:35:56.296751",
     "exception": false,
     "start_time": "2022-03-06T17:35:56.222688",
     "status": "completed"
    },
    "tags": []
   },
   "source": [
    "## Project Planning\n",
    "\n",
    "### Become familiar with the data:\n",
    "- Use .info() and .describe()\n",
    "- Histograms and box plots (numerical data)\n",
    "- Value counts (categorical data)\n",
    "\n",
    "### Clean up data\n",
    "- Evaluate any missing data\n",
    "    - Remove or impute (estimate) the missing data\n",
    "    \n",
    "### Analysis\n",
    "- Investigate potential themes emerging in data - potential correlations between passenger traits and survival\n",
    "    - Gender\n",
    "    - Ticket price \n",
    "    - Location on ship\n",
    "    - Combinations of traits - Gender, age, and ticket price?\n",
    "    - Potentially irrelevant data - PassengerID, etc\n",
    "    \n",
    "### Preprocess Data\n",
    "This is a **classification** problem - we are attempting to determine if a person survived (1) or did not survive (0) the Titantic disaster.\n",
    "- Feature engineering - pick out most relevant variables and/or create additional variables\n",
    "- Prepare data for training and testing \n",
    "- Apply data scaling?\n",
    "\n",
    "### Model Building\n",
    "- Model baseline\n",
    "- Model comparison with CSV\n"
   ]
  },
  {
   "cell_type": "code",
   "execution_count": 4,
   "id": "b986b77c",
   "metadata": {
    "execution": {
     "iopub.execute_input": "2022-03-06T17:35:56.448382Z",
     "iopub.status.busy": "2022-03-06T17:35:56.447677Z",
     "iopub.status.idle": "2022-03-06T17:35:56.464169Z",
     "shell.execute_reply": "2022-03-06T17:35:56.464693Z",
     "shell.execute_reply.started": "2022-03-06T00:38:29.801931Z"
    },
    "papermill": {
     "duration": 0.094143,
     "end_time": "2022-03-06T17:35:56.464891",
     "exception": false,
     "start_time": "2022-03-06T17:35:56.370748",
     "status": "completed"
    },
    "tags": []
   },
   "outputs": [
    {
     "name": "stdout",
     "output_type": "stream",
     "text": [
      "<class 'pandas.core.frame.DataFrame'>\n",
      "RangeIndex: 418 entries, 0 to 417\n",
      "Data columns (total 13 columns):\n",
      " #   Column       Non-Null Count  Dtype  \n",
      "---  ------       --------------  -----  \n",
      " 0   PassengerId  418 non-null    int64  \n",
      " 1   Pclass       418 non-null    int64  \n",
      " 2   Name         418 non-null    object \n",
      " 3   Sex          418 non-null    object \n",
      " 4   Age          332 non-null    float64\n",
      " 5   SibSp        418 non-null    int64  \n",
      " 6   Parch        418 non-null    int64  \n",
      " 7   Ticket       418 non-null    object \n",
      " 8   Fare         417 non-null    float64\n",
      " 9   Cabin        91 non-null     object \n",
      " 10  Embarked     418 non-null    object \n",
      " 11  train_test   418 non-null    int64  \n",
      " 12  Survived     0 non-null      float64\n",
      "dtypes: float64(3), int64(5), object(5)\n",
      "memory usage: 42.6+ KB\n"
     ]
    }
   ],
   "source": [
    "# Light Data Exploration\n",
    "test.info()"
   ]
  },
  {
   "cell_type": "code",
   "execution_count": 5,
   "id": "ec56042f",
   "metadata": {
    "execution": {
     "iopub.execute_input": "2022-03-06T17:35:56.618425Z",
     "iopub.status.busy": "2022-03-06T17:35:56.617750Z",
     "iopub.status.idle": "2022-03-06T17:35:56.629996Z",
     "shell.execute_reply": "2022-03-06T17:35:56.630663Z",
     "shell.execute_reply.started": "2022-03-06T00:38:29.823692Z"
    },
    "papermill": {
     "duration": 0.090626,
     "end_time": "2022-03-06T17:35:56.630937",
     "exception": false,
     "start_time": "2022-03-06T17:35:56.540311",
     "status": "completed"
    },
    "tags": []
   },
   "outputs": [
    {
     "name": "stdout",
     "output_type": "stream",
     "text": [
      "<class 'pandas.core.frame.DataFrame'>\n",
      "RangeIndex: 891 entries, 0 to 890\n",
      "Data columns (total 13 columns):\n",
      " #   Column       Non-Null Count  Dtype  \n",
      "---  ------       --------------  -----  \n",
      " 0   PassengerId  891 non-null    int64  \n",
      " 1   Survived     891 non-null    int64  \n",
      " 2   Pclass       891 non-null    int64  \n",
      " 3   Name         891 non-null    object \n",
      " 4   Sex          891 non-null    object \n",
      " 5   Age          714 non-null    float64\n",
      " 6   SibSp        891 non-null    int64  \n",
      " 7   Parch        891 non-null    int64  \n",
      " 8   Ticket       891 non-null    object \n",
      " 9   Fare         891 non-null    float64\n",
      " 10  Cabin        204 non-null    object \n",
      " 11  Embarked     889 non-null    object \n",
      " 12  train_test   891 non-null    int64  \n",
      "dtypes: float64(2), int64(6), object(5)\n",
      "memory usage: 90.6+ KB\n"
     ]
    }
   ],
   "source": [
    "# look at data types and any null values\n",
    "training.info()\n",
    "\n",
    "# note there are null values in: Age, Cabin, and Embarked"
   ]
  },
  {
   "cell_type": "code",
   "execution_count": 6,
   "id": "8c3d0017",
   "metadata": {
    "execution": {
     "iopub.execute_input": "2022-03-06T17:35:56.787281Z",
     "iopub.status.busy": "2022-03-06T17:35:56.786456Z",
     "iopub.status.idle": "2022-03-06T17:35:56.827526Z",
     "shell.execute_reply": "2022-03-06T17:35:56.826985Z",
     "shell.execute_reply.started": "2022-03-06T00:38:29.843128Z"
    },
    "papermill": {
     "duration": 0.120495,
     "end_time": "2022-03-06T17:35:56.827685",
     "exception": false,
     "start_time": "2022-03-06T17:35:56.707190",
     "status": "completed"
    },
    "tags": []
   },
   "outputs": [
    {
     "data": {
      "text/html": [
       "<div>\n",
       "<style scoped>\n",
       "    .dataframe tbody tr th:only-of-type {\n",
       "        vertical-align: middle;\n",
       "    }\n",
       "\n",
       "    .dataframe tbody tr th {\n",
       "        vertical-align: top;\n",
       "    }\n",
       "\n",
       "    .dataframe thead th {\n",
       "        text-align: right;\n",
       "    }\n",
       "</style>\n",
       "<table border=\"1\" class=\"dataframe\">\n",
       "  <thead>\n",
       "    <tr style=\"text-align: right;\">\n",
       "      <th></th>\n",
       "      <th>PassengerId</th>\n",
       "      <th>Survived</th>\n",
       "      <th>Pclass</th>\n",
       "      <th>Age</th>\n",
       "      <th>SibSp</th>\n",
       "      <th>Parch</th>\n",
       "      <th>Fare</th>\n",
       "      <th>train_test</th>\n",
       "    </tr>\n",
       "  </thead>\n",
       "  <tbody>\n",
       "    <tr>\n",
       "      <th>count</th>\n",
       "      <td>891.000000</td>\n",
       "      <td>891.000000</td>\n",
       "      <td>891.000000</td>\n",
       "      <td>714.000000</td>\n",
       "      <td>891.000000</td>\n",
       "      <td>891.000000</td>\n",
       "      <td>891.000000</td>\n",
       "      <td>891.0</td>\n",
       "    </tr>\n",
       "    <tr>\n",
       "      <th>mean</th>\n",
       "      <td>446.000000</td>\n",
       "      <td>0.383838</td>\n",
       "      <td>2.308642</td>\n",
       "      <td>29.699118</td>\n",
       "      <td>0.523008</td>\n",
       "      <td>0.381594</td>\n",
       "      <td>32.204208</td>\n",
       "      <td>1.0</td>\n",
       "    </tr>\n",
       "    <tr>\n",
       "      <th>std</th>\n",
       "      <td>257.353842</td>\n",
       "      <td>0.486592</td>\n",
       "      <td>0.836071</td>\n",
       "      <td>14.526497</td>\n",
       "      <td>1.102743</td>\n",
       "      <td>0.806057</td>\n",
       "      <td>49.693429</td>\n",
       "      <td>0.0</td>\n",
       "    </tr>\n",
       "    <tr>\n",
       "      <th>min</th>\n",
       "      <td>1.000000</td>\n",
       "      <td>0.000000</td>\n",
       "      <td>1.000000</td>\n",
       "      <td>0.420000</td>\n",
       "      <td>0.000000</td>\n",
       "      <td>0.000000</td>\n",
       "      <td>0.000000</td>\n",
       "      <td>1.0</td>\n",
       "    </tr>\n",
       "    <tr>\n",
       "      <th>25%</th>\n",
       "      <td>223.500000</td>\n",
       "      <td>0.000000</td>\n",
       "      <td>2.000000</td>\n",
       "      <td>20.125000</td>\n",
       "      <td>0.000000</td>\n",
       "      <td>0.000000</td>\n",
       "      <td>7.910400</td>\n",
       "      <td>1.0</td>\n",
       "    </tr>\n",
       "    <tr>\n",
       "      <th>50%</th>\n",
       "      <td>446.000000</td>\n",
       "      <td>0.000000</td>\n",
       "      <td>3.000000</td>\n",
       "      <td>28.000000</td>\n",
       "      <td>0.000000</td>\n",
       "      <td>0.000000</td>\n",
       "      <td>14.454200</td>\n",
       "      <td>1.0</td>\n",
       "    </tr>\n",
       "    <tr>\n",
       "      <th>75%</th>\n",
       "      <td>668.500000</td>\n",
       "      <td>1.000000</td>\n",
       "      <td>3.000000</td>\n",
       "      <td>38.000000</td>\n",
       "      <td>1.000000</td>\n",
       "      <td>0.000000</td>\n",
       "      <td>31.000000</td>\n",
       "      <td>1.0</td>\n",
       "    </tr>\n",
       "    <tr>\n",
       "      <th>max</th>\n",
       "      <td>891.000000</td>\n",
       "      <td>1.000000</td>\n",
       "      <td>3.000000</td>\n",
       "      <td>80.000000</td>\n",
       "      <td>8.000000</td>\n",
       "      <td>6.000000</td>\n",
       "      <td>512.329200</td>\n",
       "      <td>1.0</td>\n",
       "    </tr>\n",
       "  </tbody>\n",
       "</table>\n",
       "</div>"
      ],
      "text/plain": [
       "       PassengerId    Survived      Pclass         Age       SibSp  \\\n",
       "count   891.000000  891.000000  891.000000  714.000000  891.000000   \n",
       "mean    446.000000    0.383838    2.308642   29.699118    0.523008   \n",
       "std     257.353842    0.486592    0.836071   14.526497    1.102743   \n",
       "min       1.000000    0.000000    1.000000    0.420000    0.000000   \n",
       "25%     223.500000    0.000000    2.000000   20.125000    0.000000   \n",
       "50%     446.000000    0.000000    3.000000   28.000000    0.000000   \n",
       "75%     668.500000    1.000000    3.000000   38.000000    1.000000   \n",
       "max     891.000000    1.000000    3.000000   80.000000    8.000000   \n",
       "\n",
       "            Parch        Fare  train_test  \n",
       "count  891.000000  891.000000       891.0  \n",
       "mean     0.381594   32.204208         1.0  \n",
       "std      0.806057   49.693429         0.0  \n",
       "min      0.000000    0.000000         1.0  \n",
       "25%      0.000000    7.910400         1.0  \n",
       "50%      0.000000   14.454200         1.0  \n",
       "75%      0.000000   31.000000         1.0  \n",
       "max      6.000000  512.329200         1.0  "
      ]
     },
     "execution_count": 6,
     "metadata": {},
     "output_type": "execute_result"
    }
   ],
   "source": [
    "# look at numeric data\n",
    "training.describe()\n",
    "\n",
    "# training.describe(include='all')\n",
    "\n",
    "# gives insight into central tendencies of the data.\n",
    "# ex. average age ~29-30 years old, average fare 32.20"
   ]
  },
  {
   "cell_type": "code",
   "execution_count": 7,
   "id": "cf4abb1f",
   "metadata": {
    "execution": {
     "iopub.execute_input": "2022-03-06T17:35:56.990358Z",
     "iopub.status.busy": "2022-03-06T17:35:56.989693Z",
     "iopub.status.idle": "2022-03-06T17:35:57.011368Z",
     "shell.execute_reply": "2022-03-06T17:35:57.012030Z",
     "shell.execute_reply.started": "2022-03-06T00:38:29.89388Z"
    },
    "papermill": {
     "duration": 0.108014,
     "end_time": "2022-03-06T17:35:57.012350",
     "exception": false,
     "start_time": "2022-03-06T17:35:56.904336",
     "status": "completed"
    },
    "tags": []
   },
   "outputs": [
    {
     "data": {
      "text/plain": [
       "Index(['PassengerId', 'Survived', 'Pclass', 'Age', 'SibSp', 'Parch', 'Fare',\n",
       "       'train_test'],\n",
       "      dtype='object')"
      ]
     },
     "execution_count": 7,
     "metadata": {},
     "output_type": "execute_result"
    }
   ],
   "source": [
    "# separate the numeric columns\n",
    "training.describe().columns"
   ]
  },
  {
   "cell_type": "markdown",
   "id": "e43ecedb",
   "metadata": {
    "papermill": {
     "duration": 0.078103,
     "end_time": "2022-03-06T17:35:57.170011",
     "exception": false,
     "start_time": "2022-03-06T17:35:57.091908",
     "status": "completed"
    },
    "tags": []
   },
   "source": [
    "## Numerical Data Analysis"
   ]
  },
  {
   "cell_type": "code",
   "execution_count": 8,
   "id": "1ba740de",
   "metadata": {
    "execution": {
     "iopub.execute_input": "2022-03-06T17:35:57.327910Z",
     "iopub.status.busy": "2022-03-06T17:35:57.327247Z",
     "iopub.status.idle": "2022-03-06T17:35:57.332788Z",
     "shell.execute_reply": "2022-03-06T17:35:57.333337Z",
     "shell.execute_reply.started": "2022-03-06T00:38:29.927449Z"
    },
    "papermill": {
     "duration": 0.087016,
     "end_time": "2022-03-06T17:35:57.333510",
     "exception": false,
     "start_time": "2022-03-06T17:35:57.246494",
     "status": "completed"
    },
    "tags": []
   },
   "outputs": [],
   "source": [
    "# break data into numerical and categorical subsets for evaluation\n",
    "# we omit irrelevant data like PassengerID \n",
    "\n",
    "train_num = training[['Age', 'SibSp', 'Parch', 'Fare']]\n",
    "train_cat = training[['Survived', 'Pclass', 'Sex', 'Ticket', 'Cabin', 'Embarked']]"
   ]
  },
  {
   "cell_type": "code",
   "execution_count": 9,
   "id": "7be8ca06",
   "metadata": {
    "execution": {
     "iopub.execute_input": "2022-03-06T17:35:57.496179Z",
     "iopub.status.busy": "2022-03-06T17:35:57.495451Z",
     "iopub.status.idle": "2022-03-06T17:35:58.304589Z",
     "shell.execute_reply": "2022-03-06T17:35:58.303285Z",
     "shell.execute_reply.started": "2022-03-06T00:38:29.935796Z"
    },
    "papermill": {
     "duration": 0.895291,
     "end_time": "2022-03-06T17:35:58.304776",
     "exception": false,
     "start_time": "2022-03-06T17:35:57.409485",
     "status": "completed"
    },
    "tags": []
   },
   "outputs": [
    {
     "data": {
      "image/png": "[encoded data removed]",
      "text/plain": [
       "<Figure size 432x288 with 1 Axes>"
      ]
     },
     "metadata": {
      "needs_background": "light"
     },
     "output_type": "display_data"
    },
    {
     "data": {
      "image/png": "[encoded data removed]",
      "text/plain": [
       "<Figure size 432x288 with 1 Axes>"
      ]
     },
     "metadata": {
      "needs_background": "light"
     },
     "output_type": "display_data"
    },
    {
     "data": {
      "image/png": "[encoded data removed]",
      "text/plain": [
       "<Figure size 432x288 with 1 Axes>"
      ]
     },
     "metadata": {
      "needs_background": "light"
     },
     "output_type": "display_data"
    },
    {
     "data": {
      "image/png": "[encoded data removed]",
      "text/plain": [
       "<Figure size 432x288 with 1 Axes>"
      ]
     },
     "metadata": {
      "needs_background": "light"
     },
     "output_type": "display_data"
    }
   ],
   "source": [
    "# iterate over numerical variables and describe with histograms\n",
    "\n",
    "for i in train_num.columns:\n",
    "    plt.hist(train_num[i])\n",
    "    plt.title(i)\n",
    "    plt.show()\n",
    "   \n"
   ]
  },
  {
   "cell_type": "markdown",
   "id": "91d475db",
   "metadata": {
    "papermill": {
     "duration": 0.080741,
     "end_time": "2022-03-06T17:35:58.467086",
     "exception": false,
     "start_time": "2022-03-06T17:35:58.386345",
     "status": "completed"
    },
    "tags": []
   },
   "source": [
    "### From these graphs...\n",
    "\n",
    "- We may want to normalize Fare, because so many people paid less than 100 for their ticket it would be interesting to see if it follows a slightly more normal distribution when normalized\n",
    "- Age follows a rough normal curve already"
   ]
  },
  {
   "cell_type": "code",
   "execution_count": 10,
   "id": "747aa8dc",
   "metadata": {
    "execution": {
     "iopub.execute_input": "2022-03-06T17:35:58.639420Z",
     "iopub.status.busy": "2022-03-06T17:35:58.632273Z",
     "iopub.status.idle": "2022-03-06T17:35:58.920767Z",
     "shell.execute_reply": "2022-03-06T17:35:58.921494Z",
     "shell.execute_reply.started": "2022-03-06T00:38:30.74504Z"
    },
    "papermill": {
     "duration": 0.375088,
     "end_time": "2022-03-06T17:35:58.921692",
     "exception": false,
     "start_time": "2022-03-06T17:35:58.546604",
     "status": "completed"
    },
    "tags": []
   },
   "outputs": [
    {
     "name": "stdout",
     "output_type": "stream",
     "text": [
      "            Age     SibSp     Parch      Fare\n",
      "Age    1.000000 -0.308247 -0.189119  0.096067\n",
      "SibSp -0.308247  1.000000  0.414838  0.159651\n",
      "Parch -0.189119  0.414838  1.000000  0.216225\n",
      "Fare   0.096067  0.159651  0.216225  1.000000\n"
     ]
    },
    {
     "data": {
      "text/plain": [
       "<AxesSubplot:>"
      ]
     },
     "execution_count": 10,
     "metadata": {},
     "output_type": "execute_result"
    },
    {
     "data": {
      "image/png": "[encoded data removed]",
      "text/plain": [
       "<Figure size 432x288 with 2 Axes>"
      ]
     },
     "metadata": {
      "needs_background": "light"
     },
     "output_type": "display_data"
    }
   ],
   "source": [
    "# now look at correlations in numerical data\n",
    "\n",
    "# print a matrix of the correlations\n",
    "print(train_num.corr())\n",
    "\n",
    "# create a mask to hide diagonal + above - diagonals have a 1.00 correlation (same variable)\n",
    "# and the upper values are a repeat of the lower values\n",
    "mask = np.zeros_like(train_num.corr())\n",
    "mask[np.triu_indices_from(mask)] = True\n",
    "\n",
    "# print the heatmap with the values annotated and the mask applied\n",
    "sns.heatmap(train_num.corr(), annot=True, mask=mask)"
   ]
  },
  {
   "cell_type": "markdown",
   "id": "7dd1dd8f",
   "metadata": {
    "papermill": {
     "duration": 0.084836,
     "end_time": "2022-03-06T17:35:59.091481",
     "exception": false,
     "start_time": "2022-03-06T17:35:59.006645",
     "status": "completed"
    },
    "tags": []
   },
   "source": [
    "### From this graph...\n",
    "\n",
    "- Spouse/siblings and parent/child are positively correlated - families tend to travel together?\n",
    "- Age and # of siblings/spouses negatively correlated - more likely to travel with siblings if younger?"
   ]
  },
  {
   "cell_type": "code",
   "execution_count": 11,
   "id": "7ea20e18",
   "metadata": {
    "execution": {
     "iopub.execute_input": "2022-03-06T17:35:59.262966Z",
     "iopub.status.busy": "2022-03-06T17:35:59.261912Z",
     "iopub.status.idle": "2022-03-06T17:35:59.285401Z",
     "shell.execute_reply": "2022-03-06T17:35:59.285984Z",
     "shell.execute_reply.started": "2022-03-06T00:38:31.032315Z"
    },
    "papermill": {
     "duration": 0.111725,
     "end_time": "2022-03-06T17:35:59.286173",
     "exception": false,
     "start_time": "2022-03-06T17:35:59.174448",
     "status": "completed"
    },
    "tags": []
   },
   "outputs": [
    {
     "data": {
      "text/html": [
       "<div>\n",
       "<style scoped>\n",
       "    .dataframe tbody tr th:only-of-type {\n",
       "        vertical-align: middle;\n",
       "    }\n",
       "\n",
       "    .dataframe tbody tr th {\n",
       "        vertical-align: top;\n",
       "    }\n",
       "\n",
       "    .dataframe thead th {\n",
       "        text-align: right;\n",
       "    }\n",
       "</style>\n",
       "<table border=\"1\" class=\"dataframe\">\n",
       "  <thead>\n",
       "    <tr style=\"text-align: right;\">\n",
       "      <th></th>\n",
       "      <th>Age</th>\n",
       "      <th>Fare</th>\n",
       "      <th>Parch</th>\n",
       "      <th>SibSp</th>\n",
       "    </tr>\n",
       "    <tr>\n",
       "      <th>Survived</th>\n",
       "      <th></th>\n",
       "      <th></th>\n",
       "      <th></th>\n",
       "      <th></th>\n",
       "    </tr>\n",
       "  </thead>\n",
       "  <tbody>\n",
       "    <tr>\n",
       "      <th>0</th>\n",
       "      <td>30.626179</td>\n",
       "      <td>22.117887</td>\n",
       "      <td>0.329690</td>\n",
       "      <td>0.553734</td>\n",
       "    </tr>\n",
       "    <tr>\n",
       "      <th>1</th>\n",
       "      <td>28.343690</td>\n",
       "      <td>48.395408</td>\n",
       "      <td>0.464912</td>\n",
       "      <td>0.473684</td>\n",
       "    </tr>\n",
       "  </tbody>\n",
       "</table>\n",
       "</div>"
      ],
      "text/plain": [
       "                Age       Fare     Parch     SibSp\n",
       "Survived                                          \n",
       "0         30.626179  22.117887  0.329690  0.553734\n",
       "1         28.343690  48.395408  0.464912  0.473684"
      ]
     },
     "execution_count": 11,
     "metadata": {},
     "output_type": "execute_result"
    }
   ],
   "source": [
    "# compare surival rates across the numerical data\n",
    "pd.pivot_table(training, index = 'Survived', values = ['Age', 'SibSp', 'Parch', 'Fare'])"
   ]
  },
  {
   "cell_type": "markdown",
   "id": "c06fa8da",
   "metadata": {
    "papermill": {
     "duration": 0.08221,
     "end_time": "2022-03-06T17:35:59.450796",
     "exception": false,
     "start_time": "2022-03-06T17:35:59.368586",
     "status": "completed"
    },
    "tags": []
   },
   "source": [
    "### From this table...\n",
    "- Average age is roughly the same (~ 2 year difference), slightly lower age for survivors\n",
    "- Average fare paid is **twice** as high for survivors\n",
    "- Having parents/children slightly higher for survivors\n",
    "- Having siblings/spouses slightly lower for survivors"
   ]
  },
  {
   "cell_type": "markdown",
   "id": "c59f8e50",
   "metadata": {
    "papermill": {
     "duration": 0.081773,
     "end_time": "2022-03-06T17:35:59.615153",
     "exception": false,
     "start_time": "2022-03-06T17:35:59.533380",
     "status": "completed"
    },
    "tags": []
   },
   "source": [
    "## Categorical Data Analysis"
   ]
  },
  {
   "cell_type": "code",
   "execution_count": 12,
   "id": "2046820f",
   "metadata": {
    "execution": {
     "iopub.execute_input": "2022-03-06T17:35:59.782774Z",
     "iopub.status.busy": "2022-03-06T17:35:59.781706Z",
     "iopub.status.idle": "2022-03-06T17:36:11.156819Z",
     "shell.execute_reply": "2022-03-06T17:36:11.157320Z",
     "shell.execute_reply.started": "2022-03-06T00:38:31.060484Z"
    },
    "papermill": {
     "duration": 11.460684,
     "end_time": "2022-03-06T17:36:11.157499",
     "exception": false,
     "start_time": "2022-03-06T17:35:59.696815",
     "status": "completed"
    },
    "tags": []
   },
   "outputs": [
    {
     "name": "stdout",
     "output_type": "stream",
     "text": [
      "<class 'pandas.core.frame.DataFrame'>\n",
      "RangeIndex: 891 entries, 0 to 890\n",
      "Data columns (total 6 columns):\n",
      " #   Column    Non-Null Count  Dtype \n",
      "---  ------    --------------  ----- \n",
      " 0   Survived  891 non-null    int64 \n",
      " 1   Pclass    891 non-null    int64 \n",
      " 2   Sex       891 non-null    object\n",
      " 3   Ticket    891 non-null    object\n",
      " 4   Cabin     204 non-null    object\n",
      " 5   Embarked  889 non-null    object\n",
      "dtypes: int64(2), object(4)\n",
      "memory usage: 41.9+ KB\n"
     ]
    },
    {
     "data": {
      "image/png": "[encoded data removed]",
      "text/plain": [
       "<Figure size 432x288 with 1 Axes>"
      ]
     },
     "metadata": {
      "needs_background": "light"
     },
     "output_type": "display_data"
    },
    {
     "data": {
      "image/png": "[encoded data removed]",
      "text/plain": [
       "<Figure size 432x288 with 1 Axes>"
      ]
     },
     "metadata": {
      "needs_background": "light"
     },
     "output_type": "display_data"
    },
    {
     "data": {
      "image/png": "[encoded data removed]",
      "text/plain": [
       "<Figure size 432x288 with 1 Axes>"
      ]
     },
     "metadata": {
      "needs_background": "light"
     },
     "output_type": "display_data"
    },
    {
     "data": {
      "image/png": "[encoded data removed]",
      "text/plain": [
       "<Figure size 432x288 with 1 Axes>"
      ]
     },
     "metadata": {
      "needs_background": "light"
     },
     "output_type": "display_data"
    },
    {
     "data": {
      "image/png": "[encoded data removed]",
      "text/plain": [
       "<Figure size 432x288 with 1 Axes>"
      ]
     },
     "metadata": {
      "needs_background": "light"
     },
     "output_type": "display_data"
    },
    {
     "data": {
      "image/png": "[encoded data removed]",
      "text/plain": [
       "<Figure size 432x288 with 1 Axes>"
      ]
     },
     "metadata": {
      "needs_background": "light"
     },
     "output_type": "display_data"
    }
   ],
   "source": [
    "train_cat.info()\n",
    "train_cat['Survived'].value_counts()\n",
    "\n",
    "   \n",
    "    \n",
    "for i in train_cat.columns:\n",
    "    sns.barplot(x=train_cat[i].value_counts().index, y=train_cat[i].value_counts()).set_title(i)\n",
    "    plt.show()"
   ]
  },
  {
   "cell_type": "markdown",
   "id": "7832ce14",
   "metadata": {
    "papermill": {
     "duration": 0.086616,
     "end_time": "2022-03-06T17:36:11.331365",
     "exception": false,
     "start_time": "2022-03-06T17:36:11.244749",
     "status": "completed"
    },
    "tags": []
   },
   "source": [
    "### From these graphs...\n",
    "- More people died than survived\n",
    "- Most people were 3rd class\n",
    "- Almost twice as many male as female passengers\n",
    "- Need to process ticket and cabin data more (too many individual categories to represent properly here)\n",
    "    - This is where feature engineering comes in handy\n",
    "-  Majority of people embarked from Southampton"
   ]
  },
  {
   "cell_type": "code",
   "execution_count": 13,
   "id": "6b5529ec",
   "metadata": {
    "execution": {
     "iopub.execute_input": "2022-03-06T17:36:11.513229Z",
     "iopub.status.busy": "2022-03-06T17:36:11.512456Z",
     "iopub.status.idle": "2022-03-06T17:36:11.551006Z",
     "shell.execute_reply": "2022-03-06T17:36:11.550431Z",
     "shell.execute_reply.started": "2022-03-06T00:38:41.603816Z"
    },
    "papermill": {
     "duration": 0.133704,
     "end_time": "2022-03-06T17:36:11.551164",
     "exception": false,
     "start_time": "2022-03-06T17:36:11.417460",
     "status": "completed"
    },
    "scrolled": true,
    "tags": []
   },
   "outputs": [
    {
     "name": "stdout",
     "output_type": "stream",
     "text": [
      "Pclass      1   2    3\n",
      "Survived              \n",
      "0          80  97  372\n",
      "1         136  87  119\n",
      "\n",
      "===========\n",
      "\n",
      "Sex       female  male\n",
      "Survived              \n",
      "0             81   468\n",
      "1            233   109\n",
      "\n",
      "===========\n",
      "\n",
      "Embarked   C   Q    S\n",
      "Survived             \n",
      "0         75  47  427\n",
      "1         93  30  217\n"
     ]
    }
   ],
   "source": [
    "# now compare survival rates to these categorical variables\n",
    "\n",
    "# notes on pivot table:\n",
    "# - aggfunc indicates the calculation (in this case we want a count of values, as opposed to an average)\n",
    "# - for values, select a column that has all non-null values to ensure we count for all passengers\n",
    "#    - ex. 'cabin' has 204 non-null values so don't pick this column\n",
    "#    - ex. 'name' and 'ticket' all have 0 non-null values so these are good columns to pick\n",
    "\n",
    "\n",
    "print(pd.pivot_table(training, index='Survived', columns='Pclass', values='Ticket', aggfunc='count'))\n",
    "print('\\n===========\\n')\n",
    "print(pd.pivot_table(training, index='Survived', columns='Sex', values='Ticket', aggfunc='count'))\n",
    "print('\\n===========\\n')\n",
    "print(pd.pivot_table(training, index='Survived', columns='Embarked', values='Ticket', aggfunc='count'))"
   ]
  },
  {
   "cell_type": "markdown",
   "id": "e3a9471b",
   "metadata": {
    "papermill": {
     "duration": 0.086755,
     "end_time": "2022-03-06T17:36:11.728388",
     "exception": false,
     "start_time": "2022-03-06T17:36:11.641633",
     "status": "completed"
    },
    "tags": []
   },
   "source": [
    "### From these charts...\n",
    "- More survivors from first class than second or third class - likely important variable\n",
    "- More women survived than men - likely important variable\n",
    "- Slightly more survivors (proportionally) from Cherbourg"
   ]
  },
  {
   "cell_type": "markdown",
   "id": "ca83c6ca",
   "metadata": {
    "papermill": {
     "duration": 0.088985,
     "end_time": "2022-03-06T17:36:11.907384",
     "exception": false,
     "start_time": "2022-03-06T17:36:11.818399",
     "status": "completed"
    },
    "tags": []
   },
   "source": [
    "## Feature Engineering\n",
    "\n",
    "We can process some of the categorical data above a little more to better understand trends, and create additional variables to evaluate.\n",
    "\n",
    "\n",
    "1. Cabin - Simplify this data and evaluate if the letter of the cabin or the purchase of multiple cabins impacts survival\n",
    "2. Tickets - Evaluate if different ticket types impacts survival\n",
    "3. New variable - Evaluate is a person's title (contained within 'Name') impacts survival"
   ]
  },
  {
   "cell_type": "code",
   "execution_count": 14,
   "id": "37c37cfc",
   "metadata": {
    "execution": {
     "iopub.execute_input": "2022-03-06T17:36:12.092969Z",
     "iopub.status.busy": "2022-03-06T17:36:12.092245Z",
     "iopub.status.idle": "2022-03-06T17:36:12.102270Z",
     "shell.execute_reply": "2022-03-06T17:36:12.102834Z",
     "shell.execute_reply.started": "2022-03-06T00:38:41.650046Z"
    },
    "papermill": {
     "duration": 0.103745,
     "end_time": "2022-03-06T17:36:12.103123",
     "exception": false,
     "start_time": "2022-03-06T17:36:11.999378",
     "status": "completed"
    },
    "scrolled": true,
    "tags": []
   },
   "outputs": [
    {
     "data": {
      "text/plain": [
       "0    687\n",
       "1    180\n",
       "2     16\n",
       "3      6\n",
       "4      2\n",
       "Name: cabin_multiple, dtype: int64"
      ]
     },
     "execution_count": 14,
     "metadata": {},
     "output_type": "execute_result"
    }
   ],
   "source": [
    "# look at cabin data for passengers\n",
    "train_cat.Cabin\n",
    "\n",
    "# create a new column cabin_multiple\n",
    "# remove NaN values and count as 0 cabins. otherwise count the number of cabins a person owns (based on string spacing)\n",
    "# so 0 = no cabins owned, 1 = 1 cabin owned, 4 = 4 cabins owned, etc\n",
    "\n",
    "training['cabin_multiple'] = training.Cabin.apply(lambda x: 0 if pd.isna(x) else len(x.split(' ')))\n",
    "\n",
    "training['cabin_multiple'].value_counts()"
   ]
  },
  {
   "cell_type": "code",
   "execution_count": 15,
   "id": "433386f3",
   "metadata": {
    "execution": {
     "iopub.execute_input": "2022-03-06T17:36:12.284167Z",
     "iopub.status.busy": "2022-03-06T17:36:12.283428Z",
     "iopub.status.idle": "2022-03-06T17:36:12.304339Z",
     "shell.execute_reply": "2022-03-06T17:36:12.305030Z",
     "shell.execute_reply.started": "2022-03-06T00:38:41.662404Z"
    },
    "papermill": {
     "duration": 0.112701,
     "end_time": "2022-03-06T17:36:12.305230",
     "exception": false,
     "start_time": "2022-03-06T17:36:12.192529",
     "status": "completed"
    },
    "tags": []
   },
   "outputs": [
    {
     "data": {
      "text/html": [
       "<div>\n",
       "<style scoped>\n",
       "    .dataframe tbody tr th:only-of-type {\n",
       "        vertical-align: middle;\n",
       "    }\n",
       "\n",
       "    .dataframe tbody tr th {\n",
       "        vertical-align: top;\n",
       "    }\n",
       "\n",
       "    .dataframe thead th {\n",
       "        text-align: right;\n",
       "    }\n",
       "</style>\n",
       "<table border=\"1\" class=\"dataframe\">\n",
       "  <thead>\n",
       "    <tr style=\"text-align: right;\">\n",
       "      <th>cabin_multiple</th>\n",
       "      <th>0</th>\n",
       "      <th>1</th>\n",
       "      <th>2</th>\n",
       "      <th>3</th>\n",
       "      <th>4</th>\n",
       "    </tr>\n",
       "    <tr>\n",
       "      <th>Survived</th>\n",
       "      <th></th>\n",
       "      <th></th>\n",
       "      <th></th>\n",
       "      <th></th>\n",
       "      <th></th>\n",
       "    </tr>\n",
       "  </thead>\n",
       "  <tbody>\n",
       "    <tr>\n",
       "      <th>0</th>\n",
       "      <td>481.0</td>\n",
       "      <td>58.0</td>\n",
       "      <td>7.0</td>\n",
       "      <td>3.0</td>\n",
       "      <td>NaN</td>\n",
       "    </tr>\n",
       "    <tr>\n",
       "      <th>1</th>\n",
       "      <td>206.0</td>\n",
       "      <td>122.0</td>\n",
       "      <td>9.0</td>\n",
       "      <td>3.0</td>\n",
       "      <td>2.0</td>\n",
       "    </tr>\n",
       "  </tbody>\n",
       "</table>\n",
       "</div>"
      ],
      "text/plain": [
       "cabin_multiple      0      1    2    3    4\n",
       "Survived                                   \n",
       "0               481.0   58.0  7.0  3.0  NaN\n",
       "1               206.0  122.0  9.0  3.0  2.0"
      ]
     },
     "execution_count": 15,
     "metadata": {},
     "output_type": "execute_result"
    }
   ],
   "source": [
    "pd.pivot_table(training, index='Survived', columns = 'cabin_multiple', values='Ticket', aggfunc='count')"
   ]
  },
  {
   "cell_type": "markdown",
   "id": "ee7601a2",
   "metadata": {
    "papermill": {
     "duration": 0.088694,
     "end_time": "2022-03-06T17:36:12.481550",
     "exception": false,
     "start_time": "2022-03-06T17:36:12.392856",
     "status": "completed"
    },
    "tags": []
   },
   "source": [
    "### From this chart...\n",
    "- Much more likely to survive if at least one cabin is owned (similar to higher Fare paid)"
   ]
  },
  {
   "cell_type": "code",
   "execution_count": 16,
   "id": "db1089bb",
   "metadata": {
    "execution": {
     "iopub.execute_input": "2022-03-06T17:36:12.664840Z",
     "iopub.status.busy": "2022-03-06T17:36:12.664027Z",
     "iopub.status.idle": "2022-03-06T17:36:12.691223Z",
     "shell.execute_reply": "2022-03-06T17:36:12.690522Z",
     "shell.execute_reply.started": "2022-03-06T00:38:41.699881Z"
    },
    "papermill": {
     "duration": 0.121487,
     "end_time": "2022-03-06T17:36:12.691374",
     "exception": false,
     "start_time": "2022-03-06T17:36:12.569887",
     "status": "completed"
    },
    "tags": []
   },
   "outputs": [
    {
     "name": "stdout",
     "output_type": "stream",
     "text": [
      "n    687\n",
      "C     59\n",
      "B     47\n",
      "D     33\n",
      "E     32\n",
      "A     15\n",
      "F     13\n",
      "G      4\n",
      "T      1\n",
      "Name: cabin_adv, dtype: int64\n"
     ]
    },
    {
     "data": {
      "text/html": [
       "<div>\n",
       "<style scoped>\n",
       "    .dataframe tbody tr th:only-of-type {\n",
       "        vertical-align: middle;\n",
       "    }\n",
       "\n",
       "    .dataframe tbody tr th {\n",
       "        vertical-align: top;\n",
       "    }\n",
       "\n",
       "    .dataframe thead th {\n",
       "        text-align: right;\n",
       "    }\n",
       "</style>\n",
       "<table border=\"1\" class=\"dataframe\">\n",
       "  <thead>\n",
       "    <tr style=\"text-align: right;\">\n",
       "      <th>cabin_adv</th>\n",
       "      <th>A</th>\n",
       "      <th>B</th>\n",
       "      <th>C</th>\n",
       "      <th>D</th>\n",
       "      <th>E</th>\n",
       "      <th>F</th>\n",
       "      <th>G</th>\n",
       "      <th>T</th>\n",
       "      <th>n</th>\n",
       "    </tr>\n",
       "    <tr>\n",
       "      <th>Survived</th>\n",
       "      <th></th>\n",
       "      <th></th>\n",
       "      <th></th>\n",
       "      <th></th>\n",
       "      <th></th>\n",
       "      <th></th>\n",
       "      <th></th>\n",
       "      <th></th>\n",
       "      <th></th>\n",
       "    </tr>\n",
       "  </thead>\n",
       "  <tbody>\n",
       "    <tr>\n",
       "      <th>0</th>\n",
       "      <td>8.0</td>\n",
       "      <td>12.0</td>\n",
       "      <td>24.0</td>\n",
       "      <td>8.0</td>\n",
       "      <td>8.0</td>\n",
       "      <td>5.0</td>\n",
       "      <td>2.0</td>\n",
       "      <td>1.0</td>\n",
       "      <td>481.0</td>\n",
       "    </tr>\n",
       "    <tr>\n",
       "      <th>1</th>\n",
       "      <td>7.0</td>\n",
       "      <td>35.0</td>\n",
       "      <td>35.0</td>\n",
       "      <td>25.0</td>\n",
       "      <td>24.0</td>\n",
       "      <td>8.0</td>\n",
       "      <td>2.0</td>\n",
       "      <td>NaN</td>\n",
       "      <td>206.0</td>\n",
       "    </tr>\n",
       "  </tbody>\n",
       "</table>\n",
       "</div>"
      ],
      "text/plain": [
       "cabin_adv    A     B     C     D     E    F    G    T      n\n",
       "Survived                                                    \n",
       "0          8.0  12.0  24.0   8.0   8.0  5.0  2.0  1.0  481.0\n",
       "1          7.0  35.0  35.0  25.0  24.0  8.0  2.0  NaN  206.0"
      ]
     },
     "execution_count": 16,
     "metadata": {},
     "output_type": "execute_result"
    }
   ],
   "source": [
    "# create categories based on the first letter of the cabin string (this letter may indicate where a cabin is located)\n",
    "# n = null (treat no cabin as it's own category)\n",
    "\n",
    "training['cabin_adv'] = training.Cabin.apply(lambda x: str(x)[0])\n",
    "\n",
    "print(training.cabin_adv.value_counts())\n",
    "\n",
    "pd.pivot_table(training, index='Survived', columns='cabin_adv', values='Ticket', aggfunc = 'count')"
   ]
  },
  {
   "cell_type": "markdown",
   "id": "ba91adf9",
   "metadata": {
    "papermill": {
     "duration": 0.091654,
     "end_time": "2022-03-06T17:36:12.873306",
     "exception": false,
     "start_time": "2022-03-06T17:36:12.781652",
     "status": "completed"
    },
    "tags": []
   },
   "source": [
    "### From this chart...\n",
    "- Having an unclear/no cabin identifier may indicate lower survival likelihood\n",
    "- Having a clear cabin (particularly B, D, E) may indicate higher survival likelihood\n",
    "- We can likely use the cabin letter as an additional categorical value"
   ]
  },
  {
   "cell_type": "code",
   "execution_count": 17,
   "id": "81635bde",
   "metadata": {
    "execution": {
     "iopub.execute_input": "2022-03-06T17:36:13.060789Z",
     "iopub.status.busy": "2022-03-06T17:36:13.059802Z",
     "iopub.status.idle": "2022-03-06T17:36:13.074318Z",
     "shell.execute_reply": "2022-03-06T17:36:13.075051Z",
     "shell.execute_reply.started": "2022-03-06T00:38:41.731886Z"
    },
    "papermill": {
     "duration": 0.111022,
     "end_time": "2022-03-06T17:36:13.075240",
     "exception": false,
     "start_time": "2022-03-06T17:36:12.964218",
     "status": "completed"
    },
    "tags": []
   },
   "outputs": [
    {
     "data": {
      "text/plain": [
       "1    661\n",
       "0    230\n",
       "Name: numeric_ticket, dtype: int64"
      ]
     },
     "execution_count": 17,
     "metadata": {},
     "output_type": "execute_result"
    }
   ],
   "source": [
    "# a lot of ticket values are unique, but some are numeric and some are non-numeric\n",
    "# numeric vs. non-numeric tickets may indicate cost or position on ship - evaluate\n",
    "\n",
    "# split out numeric tickets\n",
    "training['numeric_ticket'] = training.Ticket.apply(lambda x: 1 if x.isnumeric() else 0)\n",
    "\n",
    "# split out non-numeric tickets, split along spaces, remove punctuation, make lowercase for easier grouping of similar ticket names\n",
    "training['ticket_letters'] = training.Ticket.apply(lambda x: ''.join(x.split(' ')[:-1]).replace('.','').replace('/','').lower() if len(x.split(' ')[:-1]) >0 else 0)\n",
    "\n",
    "\n",
    "training['numeric_ticket'].value_counts()"
   ]
  },
  {
   "cell_type": "code",
   "execution_count": 18,
   "id": "aa887996",
   "metadata": {
    "execution": {
     "iopub.execute_input": "2022-03-06T17:36:13.265236Z",
     "iopub.status.busy": "2022-03-06T17:36:13.264287Z",
     "iopub.status.idle": "2022-03-06T17:36:13.268554Z",
     "shell.execute_reply": "2022-03-06T17:36:13.267933Z",
     "shell.execute_reply.started": "2022-03-06T00:38:41.747878Z"
    },
    "papermill": {
     "duration": 0.102278,
     "end_time": "2022-03-06T17:36:13.268696",
     "exception": false,
     "start_time": "2022-03-06T17:36:13.166418",
     "status": "completed"
    },
    "tags": []
   },
   "outputs": [
    {
     "data": {
      "text/plain": [
       "0            665\n",
       "pc            60\n",
       "ca            41\n",
       "a5            21\n",
       "stono2        18\n",
       "sotonoq       15\n",
       "scparis       11\n",
       "wc            10\n",
       "a4             7\n",
       "soc            6\n",
       "fcc            5\n",
       "c              5\n",
       "sopp           3\n",
       "pp             3\n",
       "wep            3\n",
       "ppp            2\n",
       "scah           2\n",
       "sotono2        2\n",
       "swpp           2\n",
       "fc             1\n",
       "scahbasle      1\n",
       "as             1\n",
       "sp             1\n",
       "sc             1\n",
       "scow           1\n",
       "fa             1\n",
       "sop            1\n",
       "sca4           1\n",
       "casoton        1\n",
       "Name: ticket_letters, dtype: int64"
      ]
     },
     "execution_count": 18,
     "metadata": {},
     "output_type": "execute_result"
    }
   ],
   "source": [
    "# view all of the unique lettered tickets\n",
    "\n",
    "pd.set_option('max_rows', None) # for displaying all values\n",
    "\n",
    "training['ticket_letters'].value_counts()\n",
    "\n",
    "\n",
    "# more research may be needed to explore what these ticket values or strings actually mean"
   ]
  },
  {
   "cell_type": "code",
   "execution_count": 19,
   "id": "b4ad92a7",
   "metadata": {
    "execution": {
     "iopub.execute_input": "2022-03-06T17:36:13.458600Z",
     "iopub.status.busy": "2022-03-06T17:36:13.457860Z",
     "iopub.status.idle": "2022-03-06T17:36:13.474284Z",
     "shell.execute_reply": "2022-03-06T17:36:13.474939Z",
     "shell.execute_reply.started": "2022-03-06T00:38:41.758545Z"
    },
    "papermill": {
     "duration": 0.113862,
     "end_time": "2022-03-06T17:36:13.475141",
     "exception": false,
     "start_time": "2022-03-06T17:36:13.361279",
     "status": "completed"
    },
    "tags": []
   },
   "outputs": [
    {
     "data": {
      "text/html": [
       "<div>\n",
       "<style scoped>\n",
       "    .dataframe tbody tr th:only-of-type {\n",
       "        vertical-align: middle;\n",
       "    }\n",
       "\n",
       "    .dataframe tbody tr th {\n",
       "        vertical-align: top;\n",
       "    }\n",
       "\n",
       "    .dataframe thead th {\n",
       "        text-align: right;\n",
       "    }\n",
       "</style>\n",
       "<table border=\"1\" class=\"dataframe\">\n",
       "  <thead>\n",
       "    <tr style=\"text-align: right;\">\n",
       "      <th>numeric_ticket</th>\n",
       "      <th>0</th>\n",
       "      <th>1</th>\n",
       "    </tr>\n",
       "    <tr>\n",
       "      <th>Survived</th>\n",
       "      <th></th>\n",
       "      <th></th>\n",
       "    </tr>\n",
       "  </thead>\n",
       "  <tbody>\n",
       "    <tr>\n",
       "      <th>0</th>\n",
       "      <td>142</td>\n",
       "      <td>407</td>\n",
       "    </tr>\n",
       "    <tr>\n",
       "      <th>1</th>\n",
       "      <td>88</td>\n",
       "      <td>254</td>\n",
       "    </tr>\n",
       "  </tbody>\n",
       "</table>\n",
       "</div>"
      ],
      "text/plain": [
       "numeric_ticket    0    1\n",
       "Survived                \n",
       "0               142  407\n",
       "1                88  254"
      ]
     },
     "execution_count": 19,
     "metadata": {},
     "output_type": "execute_result"
    }
   ],
   "source": [
    "# numeric vs non-numeric ticket survival rates\n",
    "\n",
    "\n",
    "pd.pivot_table(training, index='Survived', columns='numeric_ticket', values='Ticket', aggfunc='count')"
   ]
  },
  {
   "cell_type": "markdown",
   "id": "f7bc9b48",
   "metadata": {
    "papermill": {
     "duration": 0.091707,
     "end_time": "2022-03-06T17:36:13.657976",
     "exception": false,
     "start_time": "2022-03-06T17:36:13.566269",
     "status": "completed"
    },
    "tags": []
   },
   "source": [
    "### From this chart...\n",
    "- The ratio of survival for numeric ticket holders and non-numeric ticket holders is very similar\n",
    "- Numeric vs non-numeric ticket may not be a strong indication of chance of survival"
   ]
  },
  {
   "cell_type": "code",
   "execution_count": 20,
   "id": "566f128c",
   "metadata": {
    "execution": {
     "iopub.execute_input": "2022-03-06T17:36:13.843960Z",
     "iopub.status.busy": "2022-03-06T17:36:13.842871Z",
     "iopub.status.idle": "2022-03-06T17:36:13.880392Z",
     "shell.execute_reply": "2022-03-06T17:36:13.880876Z",
     "shell.execute_reply.started": "2022-03-06T00:38:41.784782Z"
    },
    "papermill": {
     "duration": 0.132315,
     "end_time": "2022-03-06T17:36:13.881076",
     "exception": false,
     "start_time": "2022-03-06T17:36:13.748761",
     "status": "completed"
    },
    "tags": []
   },
   "outputs": [
    {
     "data": {
      "text/html": [
       "<div>\n",
       "<style scoped>\n",
       "    .dataframe tbody tr th:only-of-type {\n",
       "        vertical-align: middle;\n",
       "    }\n",
       "\n",
       "    .dataframe tbody tr th {\n",
       "        vertical-align: top;\n",
       "    }\n",
       "\n",
       "    .dataframe thead th {\n",
       "        text-align: right;\n",
       "    }\n",
       "</style>\n",
       "<table border=\"1\" class=\"dataframe\">\n",
       "  <thead>\n",
       "    <tr style=\"text-align: right;\">\n",
       "      <th>ticket_letters</th>\n",
       "      <th>0</th>\n",
       "      <th>a4</th>\n",
       "      <th>a5</th>\n",
       "      <th>as</th>\n",
       "      <th>c</th>\n",
       "      <th>ca</th>\n",
       "      <th>casoton</th>\n",
       "      <th>fa</th>\n",
       "      <th>fc</th>\n",
       "      <th>fcc</th>\n",
       "      <th>...</th>\n",
       "      <th>soc</th>\n",
       "      <th>sop</th>\n",
       "      <th>sopp</th>\n",
       "      <th>sotono2</th>\n",
       "      <th>sotonoq</th>\n",
       "      <th>sp</th>\n",
       "      <th>stono2</th>\n",
       "      <th>swpp</th>\n",
       "      <th>wc</th>\n",
       "      <th>wep</th>\n",
       "    </tr>\n",
       "    <tr>\n",
       "      <th>Survived</th>\n",
       "      <th></th>\n",
       "      <th></th>\n",
       "      <th></th>\n",
       "      <th></th>\n",
       "      <th></th>\n",
       "      <th></th>\n",
       "      <th></th>\n",
       "      <th></th>\n",
       "      <th></th>\n",
       "      <th></th>\n",
       "      <th></th>\n",
       "      <th></th>\n",
       "      <th></th>\n",
       "      <th></th>\n",
       "      <th></th>\n",
       "      <th></th>\n",
       "      <th></th>\n",
       "      <th></th>\n",
       "      <th></th>\n",
       "      <th></th>\n",
       "      <th></th>\n",
       "    </tr>\n",
       "  </thead>\n",
       "  <tbody>\n",
       "    <tr>\n",
       "      <th>0</th>\n",
       "      <td>410.0</td>\n",
       "      <td>7.0</td>\n",
       "      <td>19.0</td>\n",
       "      <td>1.0</td>\n",
       "      <td>3.0</td>\n",
       "      <td>27.0</td>\n",
       "      <td>1.0</td>\n",
       "      <td>1.0</td>\n",
       "      <td>1.0</td>\n",
       "      <td>1.0</td>\n",
       "      <td>...</td>\n",
       "      <td>5.0</td>\n",
       "      <td>1.0</td>\n",
       "      <td>3.0</td>\n",
       "      <td>2.0</td>\n",
       "      <td>13.0</td>\n",
       "      <td>1.0</td>\n",
       "      <td>10.0</td>\n",
       "      <td>NaN</td>\n",
       "      <td>9.0</td>\n",
       "      <td>2.0</td>\n",
       "    </tr>\n",
       "    <tr>\n",
       "      <th>1</th>\n",
       "      <td>255.0</td>\n",
       "      <td>NaN</td>\n",
       "      <td>2.0</td>\n",
       "      <td>NaN</td>\n",
       "      <td>2.0</td>\n",
       "      <td>14.0</td>\n",
       "      <td>NaN</td>\n",
       "      <td>NaN</td>\n",
       "      <td>NaN</td>\n",
       "      <td>4.0</td>\n",
       "      <td>...</td>\n",
       "      <td>1.0</td>\n",
       "      <td>NaN</td>\n",
       "      <td>NaN</td>\n",
       "      <td>NaN</td>\n",
       "      <td>2.0</td>\n",
       "      <td>NaN</td>\n",
       "      <td>8.0</td>\n",
       "      <td>2.0</td>\n",
       "      <td>1.0</td>\n",
       "      <td>1.0</td>\n",
       "    </tr>\n",
       "  </tbody>\n",
       "</table>\n",
       "<p>2 rows × 29 columns</p>\n",
       "</div>"
      ],
      "text/plain": [
       "ticket_letters      0   a4    a5   as    c    ca  casoton   fa   fc  fcc  ...  \\\n",
       "Survived                                                                  ...   \n",
       "0               410.0  7.0  19.0  1.0  3.0  27.0      1.0  1.0  1.0  1.0  ...   \n",
       "1               255.0  NaN   2.0  NaN  2.0  14.0      NaN  NaN  NaN  4.0  ...   \n",
       "\n",
       "ticket_letters  soc  sop  sopp  sotono2  sotonoq   sp  stono2  swpp   wc  wep  \n",
       "Survived                                                                       \n",
       "0               5.0  1.0   3.0      2.0     13.0  1.0    10.0   NaN  9.0  2.0  \n",
       "1               1.0  NaN   NaN      NaN      2.0  NaN     8.0   2.0  1.0  1.0  \n",
       "\n",
       "[2 rows x 29 columns]"
      ]
     },
     "execution_count": 20,
     "metadata": {},
     "output_type": "execute_result"
    }
   ],
   "source": [
    "# non-numeric ticket survival rates\n",
    "\n",
    "pd.pivot_table(training, index='Survived', columns='ticket_letters', values='Ticket', aggfunc='count')"
   ]
  },
  {
   "cell_type": "markdown",
   "id": "3f3b9f7a",
   "metadata": {
    "papermill": {
     "duration": 0.093942,
     "end_time": "2022-03-06T17:36:14.068247",
     "exception": false,
     "start_time": "2022-03-06T17:36:13.974305",
     "status": "completed"
    },
    "tags": []
   },
   "source": [
    "### From this chart...\n",
    "- No particular ticket string/descriptor seems to be a strong indicator for chance of survival"
   ]
  },
  {
   "cell_type": "code",
   "execution_count": 21,
   "id": "854e6a39",
   "metadata": {
    "execution": {
     "iopub.execute_input": "2022-03-06T17:36:14.254644Z",
     "iopub.status.busy": "2022-03-06T17:36:14.253582Z",
     "iopub.status.idle": "2022-03-06T17:36:14.261596Z",
     "shell.execute_reply": "2022-03-06T17:36:14.262198Z",
     "shell.execute_reply.started": "2022-03-06T00:38:41.824171Z"
    },
    "papermill": {
     "duration": 0.103146,
     "end_time": "2022-03-06T17:36:14.262392",
     "exception": false,
     "start_time": "2022-03-06T17:36:14.159246",
     "status": "completed"
    },
    "tags": []
   },
   "outputs": [],
   "source": [
    "# feature engineering\n",
    "# create a new feature - person's title, which is contained within person's name column\n",
    "\n",
    "training.Name.head(50)\n",
    "\n",
    "# for each name - split along commas, take the second string, split among periods, take the first string, and remove whitespace\n",
    "training['name_title'] = training.Name.apply(lambda x: x.split(',')[1].split('.')[0].strip())"
   ]
  },
  {
   "cell_type": "code",
   "execution_count": 22,
   "id": "f36b953b",
   "metadata": {
    "execution": {
     "iopub.execute_input": "2022-03-06T17:36:14.451868Z",
     "iopub.status.busy": "2022-03-06T17:36:14.450828Z",
     "iopub.status.idle": "2022-03-06T17:36:14.459013Z",
     "shell.execute_reply": "2022-03-06T17:36:14.459566Z",
     "shell.execute_reply.started": "2022-03-06T00:38:41.833493Z"
    },
    "papermill": {
     "duration": 0.104429,
     "end_time": "2022-03-06T17:36:14.459760",
     "exception": false,
     "start_time": "2022-03-06T17:36:14.355331",
     "status": "completed"
    },
    "tags": []
   },
   "outputs": [
    {
     "data": {
      "text/plain": [
       "Mr              517\n",
       "Miss            182\n",
       "Mrs             125\n",
       "Master           40\n",
       "Dr                7\n",
       "Rev               6\n",
       "Mlle              2\n",
       "Major             2\n",
       "Col               2\n",
       "the Countess      1\n",
       "Capt              1\n",
       "Ms                1\n",
       "Sir               1\n",
       "Lady              1\n",
       "Mme               1\n",
       "Don               1\n",
       "Jonkheer          1\n",
       "Name: name_title, dtype: int64"
      ]
     },
     "execution_count": 22,
     "metadata": {},
     "output_type": "execute_result"
    }
   ],
   "source": [
    "training['name_title'].value_counts()"
   ]
  },
  {
   "cell_type": "code",
   "execution_count": 23,
   "id": "923b3e64",
   "metadata": {
    "execution": {
     "iopub.execute_input": "2022-03-06T17:36:14.648346Z",
     "iopub.status.busy": "2022-03-06T17:36:14.647332Z",
     "iopub.status.idle": "2022-03-06T17:36:14.677742Z",
     "shell.execute_reply": "2022-03-06T17:36:14.678320Z",
     "shell.execute_reply.started": "2022-03-06T00:38:41.851801Z"
    },
    "papermill": {
     "duration": 0.125379,
     "end_time": "2022-03-06T17:36:14.678499",
     "exception": false,
     "start_time": "2022-03-06T17:36:14.553120",
     "status": "completed"
    },
    "tags": []
   },
   "outputs": [
    {
     "data": {
      "text/html": [
       "<div>\n",
       "<style scoped>\n",
       "    .dataframe tbody tr th:only-of-type {\n",
       "        vertical-align: middle;\n",
       "    }\n",
       "\n",
       "    .dataframe tbody tr th {\n",
       "        vertical-align: top;\n",
       "    }\n",
       "\n",
       "    .dataframe thead th {\n",
       "        text-align: right;\n",
       "    }\n",
       "</style>\n",
       "<table border=\"1\" class=\"dataframe\">\n",
       "  <thead>\n",
       "    <tr style=\"text-align: right;\">\n",
       "      <th>name_title</th>\n",
       "      <th>Capt</th>\n",
       "      <th>Col</th>\n",
       "      <th>Don</th>\n",
       "      <th>Dr</th>\n",
       "      <th>Jonkheer</th>\n",
       "      <th>Lady</th>\n",
       "      <th>Major</th>\n",
       "      <th>Master</th>\n",
       "      <th>Miss</th>\n",
       "      <th>Mlle</th>\n",
       "      <th>Mme</th>\n",
       "      <th>Mr</th>\n",
       "      <th>Mrs</th>\n",
       "      <th>Ms</th>\n",
       "      <th>Rev</th>\n",
       "      <th>Sir</th>\n",
       "      <th>the Countess</th>\n",
       "    </tr>\n",
       "    <tr>\n",
       "      <th>Survived</th>\n",
       "      <th></th>\n",
       "      <th></th>\n",
       "      <th></th>\n",
       "      <th></th>\n",
       "      <th></th>\n",
       "      <th></th>\n",
       "      <th></th>\n",
       "      <th></th>\n",
       "      <th></th>\n",
       "      <th></th>\n",
       "      <th></th>\n",
       "      <th></th>\n",
       "      <th></th>\n",
       "      <th></th>\n",
       "      <th></th>\n",
       "      <th></th>\n",
       "      <th></th>\n",
       "    </tr>\n",
       "  </thead>\n",
       "  <tbody>\n",
       "    <tr>\n",
       "      <th>0</th>\n",
       "      <td>1.0</td>\n",
       "      <td>1.0</td>\n",
       "      <td>1.0</td>\n",
       "      <td>4.0</td>\n",
       "      <td>1.0</td>\n",
       "      <td>NaN</td>\n",
       "      <td>1.0</td>\n",
       "      <td>17.0</td>\n",
       "      <td>55.0</td>\n",
       "      <td>NaN</td>\n",
       "      <td>NaN</td>\n",
       "      <td>436.0</td>\n",
       "      <td>26.0</td>\n",
       "      <td>NaN</td>\n",
       "      <td>6.0</td>\n",
       "      <td>NaN</td>\n",
       "      <td>NaN</td>\n",
       "    </tr>\n",
       "    <tr>\n",
       "      <th>1</th>\n",
       "      <td>NaN</td>\n",
       "      <td>1.0</td>\n",
       "      <td>NaN</td>\n",
       "      <td>3.0</td>\n",
       "      <td>NaN</td>\n",
       "      <td>1.0</td>\n",
       "      <td>1.0</td>\n",
       "      <td>23.0</td>\n",
       "      <td>127.0</td>\n",
       "      <td>2.0</td>\n",
       "      <td>1.0</td>\n",
       "      <td>81.0</td>\n",
       "      <td>99.0</td>\n",
       "      <td>1.0</td>\n",
       "      <td>NaN</td>\n",
       "      <td>1.0</td>\n",
       "      <td>1.0</td>\n",
       "    </tr>\n",
       "  </tbody>\n",
       "</table>\n",
       "</div>"
      ],
      "text/plain": [
       "name_title  Capt  Col  Don   Dr  Jonkheer  Lady  Major  Master   Miss  Mlle  \\\n",
       "Survived                                                                      \n",
       "0            1.0  1.0  1.0  4.0       1.0   NaN    1.0    17.0   55.0   NaN   \n",
       "1            NaN  1.0  NaN  3.0       NaN   1.0    1.0    23.0  127.0   2.0   \n",
       "\n",
       "name_title  Mme     Mr   Mrs   Ms  Rev  Sir  the Countess  \n",
       "Survived                                                   \n",
       "0           NaN  436.0  26.0  NaN  6.0  NaN           NaN  \n",
       "1           1.0   81.0  99.0  1.0  NaN  1.0           1.0  "
      ]
     },
     "execution_count": 23,
     "metadata": {},
     "output_type": "execute_result"
    }
   ],
   "source": [
    "pd.pivot_table(training, index='Survived', columns='name_title', values='Ticket', aggfunc='count')"
   ]
  },
  {
   "cell_type": "markdown",
   "id": "c1342f1d",
   "metadata": {
    "papermill": {
     "duration": 0.094875,
     "end_time": "2022-03-06T17:36:14.865301",
     "exception": false,
     "start_time": "2022-03-06T17:36:14.770426",
     "status": "completed"
    },
    "tags": []
   },
   "source": [
    "## Data Preprocessing for Model\n",
    "\n",
    "Let's clean up data prior to creating a predictive model.\n",
    "\n",
    "1. Drop null values for embarked (only 2 null values exist)\n",
    "2. Only include relevant variables\n",
    "    - Drop irrelevant variables such as passengerID and Name\n",
    "    - Include: Pclass, Sex, Age, Sibsp, Parch, Fare, Embarked, cabin_adv, cabin_multiple, numeric_ticket, name_title \n",
    "3. Perform categorical transformations on the test data, as we did above for the training data. We want to make sure our training and test data have the same columns.\n",
    "    - When doing machine learning, it is generally recommended to use ['one-hot encoding'](https://en.wikipedia.org/wiki/One-hot) instead for categorical data.\n",
    "    - This means using binary input/outputs for categorical data - this can prevent the machine learning algorithm from weighing variables differently when they should be equal weight. \n",
    "    - Pandas.get_dummies() method may be useful for converting to one-hot encoding.\n",
    "4. Impute the data with mean for fare and age\n",
    "5. Normalize fare using logarithm to make more normal distribution\n",
    "6. Scale data from 0-1 with standard scaler\n"
   ]
  },
  {
   "cell_type": "code",
   "execution_count": 24,
   "id": "77fcfbcc",
   "metadata": {
    "execution": {
     "iopub.execute_input": "2022-03-06T17:36:15.056359Z",
     "iopub.status.busy": "2022-03-06T17:36:15.055338Z",
     "iopub.status.idle": "2022-03-06T17:36:15.068121Z",
     "shell.execute_reply": "2022-03-06T17:36:15.068677Z",
     "shell.execute_reply.started": "2022-03-06T00:38:41.892242Z"
    },
    "papermill": {
     "duration": 0.11143,
     "end_time": "2022-03-06T17:36:15.068875",
     "exception": false,
     "start_time": "2022-03-06T17:36:14.957445",
     "status": "completed"
    },
    "tags": []
   },
   "outputs": [
    {
     "name": "stdout",
     "output_type": "stream",
     "text": [
      "<class 'pandas.core.frame.DataFrame'>\n",
      "RangeIndex: 418 entries, 0 to 417\n",
      "Data columns (total 13 columns):\n",
      " #   Column       Non-Null Count  Dtype  \n",
      "---  ------       --------------  -----  \n",
      " 0   PassengerId  418 non-null    int64  \n",
      " 1   Pclass       418 non-null    int64  \n",
      " 2   Name         418 non-null    object \n",
      " 3   Sex          418 non-null    object \n",
      " 4   Age          332 non-null    float64\n",
      " 5   SibSp        418 non-null    int64  \n",
      " 6   Parch        418 non-null    int64  \n",
      " 7   Ticket       418 non-null    object \n",
      " 8   Fare         417 non-null    float64\n",
      " 9   Cabin        91 non-null     object \n",
      " 10  Embarked     418 non-null    object \n",
      " 11  train_test   418 non-null    int64  \n",
      " 12  Survived     0 non-null      float64\n",
      "dtypes: float64(3), int64(5), object(5)\n",
      "memory usage: 42.6+ KB\n"
     ]
    }
   ],
   "source": [
    "test.info()"
   ]
  },
  {
   "cell_type": "code",
   "execution_count": 25,
   "id": "9b84c49f",
   "metadata": {
    "execution": {
     "iopub.execute_input": "2022-03-06T17:36:15.259580Z",
     "iopub.status.busy": "2022-03-06T17:36:15.258575Z",
     "iopub.status.idle": "2022-03-06T17:36:15.281570Z",
     "shell.execute_reply": "2022-03-06T17:36:15.282151Z",
     "shell.execute_reply.started": "2022-03-06T00:38:41.908702Z"
    },
    "papermill": {
     "duration": 0.120411,
     "end_time": "2022-03-06T17:36:15.282330",
     "exception": false,
     "start_time": "2022-03-06T17:36:15.161919",
     "status": "completed"
    },
    "tags": []
   },
   "outputs": [],
   "source": [
    "# create the same categorical variables as we did above for all data (training and testing)\n",
    "# formulas are the same as above but now applied to all_data dataframe\n",
    "\n",
    "all_data['cabin_multiple'] = all_data.Cabin.apply(lambda x: 0 if pd.isna(x) else len(x.split(' ')))\n",
    "all_data['cabin_adv'] = all_data.Cabin.apply(lambda x: str(x)[0])\n",
    "all_data['numeric_ticket'] = all_data.Ticket.apply(lambda x: 1 if x.isnumeric() else 0)\n",
    "all_data['ticket_letters'] = all_data.Ticket.apply(lambda x: ''.join(x.split(' ')[:-1]).replace('.','').replace('/','').lower() if len(x.split(' ')[:-1]) >0 else 0)\n",
    "all_data['name_title'] = all_data.Name.apply(lambda x: x.split(',')[1].split('.')[0].strip())\n",
    "\n",
    "\n",
    "# for continuous data, impute nulls - replace any null values with the average value from our training set\n",
    "# consideration - use median for fare ILO mean, as it is not normally distributed\n",
    "all_data.Age = all_data.Age.fillna(training.Age.mean())\n",
    "all_data.Fare = all_data.Fare.fillna(training.Fare.mean())\n",
    "\n",
    "\n",
    "# drop null values for embarked - only 2 present in training, 0 present in test\n",
    "all_data.dropna(subset=['Embarked'], inplace=True)\n"
   ]
  },
  {
   "cell_type": "code",
   "execution_count": 26,
   "id": "026f3b7c",
   "metadata": {
    "execution": {
     "iopub.execute_input": "2022-03-06T17:36:15.472278Z",
     "iopub.status.busy": "2022-03-06T17:36:15.471268Z",
     "iopub.status.idle": "2022-03-06T17:36:15.886939Z",
     "shell.execute_reply": "2022-03-06T17:36:15.886358Z",
     "shell.execute_reply.started": "2022-03-06T00:38:41.935661Z"
    },
    "papermill": {
     "duration": 0.510898,
     "end_time": "2022-03-06T17:36:15.887095",
     "exception": false,
     "start_time": "2022-03-06T17:36:15.376197",
     "status": "completed"
    },
    "tags": []
   },
   "outputs": [
    {
     "data": {
      "image/png": "[encoded data removed]",
      "text/plain": [
       "<Figure size 432x288 with 1 Axes>"
      ]
     },
     "metadata": {
      "needs_background": "light"
     },
     "output_type": "display_data"
    },
    {
     "data": {
      "image/png": "[encoded data removed]",
      "text/plain": [
       "<Figure size 432x288 with 1 Axes>"
      ]
     },
     "metadata": {
      "needs_background": "light"
     },
     "output_type": "display_data"
    }
   ],
   "source": [
    "# attempt log normalizations and see if they are useful\n",
    "# remember - +1 is due to log(0) is undefined\n",
    "\n",
    "\n",
    "# log normalize sibsp\n",
    "# do not use - not a useful normalization (as expected)\n",
    "all_data['norm_sibsp'] = np.log(all_data.SibSp+1)\n",
    "all_data['norm_sibsp'].hist().set_title('log normalized sibling/spouse')\n",
    "plt.show()\n",
    "\n",
    "# log normalize fare\n",
    "# use this - this is a useful representation of the fare\n",
    "all_data['norm_fare'] = np.log(all_data.Fare+1)\n",
    "all_data['norm_fare'].hist().set_title('log normalized fare')\n",
    "plt.show()"
   ]
  },
  {
   "cell_type": "code",
   "execution_count": 27,
   "id": "09494e27",
   "metadata": {
    "execution": {
     "iopub.execute_input": "2022-03-06T17:36:16.096012Z",
     "iopub.status.busy": "2022-03-06T17:36:16.095289Z",
     "iopub.status.idle": "2022-03-06T17:36:16.111272Z",
     "shell.execute_reply": "2022-03-06T17:36:16.111851Z",
     "shell.execute_reply.started": "2022-03-06T00:38:42.333108Z"
    },
    "papermill": {
     "duration": 0.127245,
     "end_time": "2022-03-06T17:36:16.112060",
     "exception": false,
     "start_time": "2022-03-06T17:36:15.984815",
     "status": "completed"
    },
    "tags": []
   },
   "outputs": [
    {
     "data": {
      "text/plain": [
       "(889,)"
      ]
     },
     "execution_count": 27,
     "metadata": {},
     "output_type": "execute_result"
    }
   ],
   "source": [
    "# convert fare to category for pd.get_dummies() - string now, not int64\n",
    "all_data.Pclass = all_data.Pclass.astype(str)\n",
    "\n",
    "# create dummy variables from categories (can also use One Hot Encoder)\n",
    "all_dummies = pd.get_dummies(all_data[['Pclass', 'Sex', 'Age', 'SibSp', 'Parch', 'norm_fare', 'Embarked', 'cabin_adv', 'cabin_multiple', 'numeric_ticket', 'name_title', 'train_test']])\n",
    "\n",
    "\n",
    "# split into train and test again\n",
    "# training and testing independent variables\n",
    "x_train = all_dummies[all_dummies.train_test == 1].drop(['train_test'], axis = 1) \n",
    "x_test = all_dummies[all_dummies.train_test == 0].drop(['train_test'], axis = 1)\n",
    "\n",
    "# training dependent variables\n",
    "y_train = all_data[all_data.train_test==1].Survived\n",
    "y_train.shape"
   ]
  },
  {
   "cell_type": "code",
   "execution_count": 28,
   "id": "ffa4d513",
   "metadata": {
    "execution": {
     "iopub.execute_input": "2022-03-06T17:36:16.308051Z",
     "iopub.status.busy": "2022-03-06T17:36:16.307230Z",
     "iopub.status.idle": "2022-03-06T17:36:16.462282Z",
     "shell.execute_reply": "2022-03-06T17:36:16.461609Z",
     "shell.execute_reply.started": "2022-03-06T00:38:42.365648Z"
    },
    "papermill": {
     "duration": 0.254095,
     "end_time": "2022-03-06T17:36:16.462448",
     "exception": false,
     "start_time": "2022-03-06T17:36:16.208353",
     "status": "completed"
    },
    "tags": []
   },
   "outputs": [],
   "source": [
    "# Scale data \n",
    "\n",
    "from sklearn.preprocessing import StandardScaler\n",
    "scale = StandardScaler()\n",
    "all_dummies_scaled = all_dummies.copy()\n",
    "all_dummies_scaled[['Age','SibSp','Parch','norm_fare']]= scale.fit_transform(all_dummies_scaled[['Age','SibSp','Parch','norm_fare']])\n",
    "all_dummies_scaled\n",
    "\n",
    "x_train_scaled = all_dummies_scaled[all_dummies_scaled.train_test == 1].drop(['train_test'], axis =1)\n",
    "x_test_scaled = all_dummies_scaled[all_dummies_scaled.train_test == 0].drop(['train_test'], axis =1)\n",
    "\n",
    "y_train = all_data[all_data.train_test==1].Survived"
   ]
  },
  {
   "cell_type": "markdown",
   "id": "0bff67b0",
   "metadata": {
    "papermill": {
     "duration": 0.09417,
     "end_time": "2022-03-06T17:36:16.652701",
     "exception": false,
     "start_time": "2022-03-06T17:36:16.558531",
     "status": "completed"
    },
    "tags": []
   },
   "source": [
    "## Model Building - Baseline Validation Performance\n",
    "\n",
    "Let's build some models and evaluate them against our provided train data to see how well they might perform on our test data.\n",
    "\n",
    "We are using [5 fold cross validation](https://machinelearningmastery.com/k-fold-cross-validation/) to get a baseline of how our models perform. This randomly samples from our training data, trains the model, and then evaluates the model results against the remaining training data. With a baseline, we will be able to see how much tuning improves each model. \n",
    "\n",
    "Though note that a model having a high baseline on this validation set does not necessarily indicate it will do better on the test data. Doing well compared to training data may indicate the model is slightly overtrained.\n",
    "\n",
    "[Scikit Cross Validation Function](https://scikit-learn.org/stable/modules/cross_validation.html#cross-validation)\n",
    "\n",
    "Models to build and evaluate:\n",
    "- Naive Bayes\n",
    "- Logistic Regression\n",
    "- Decision Tree\n",
    "- K Nearest Neighbor\n",
    "- Random Forest\n",
    "- Support Vector Classifier\n",
    "- Xtreme Gradient Boosting\n",
    "- Soft Voting Classifier\n",
    "\n",
    "\n",
    "\n"
   ]
  },
  {
   "cell_type": "code",
   "execution_count": 29,
   "id": "54fe5311",
   "metadata": {
    "execution": {
     "iopub.execute_input": "2022-03-06T17:36:16.849804Z",
     "iopub.status.busy": "2022-03-06T17:36:16.849039Z",
     "iopub.status.idle": "2022-03-06T17:36:17.134813Z",
     "shell.execute_reply": "2022-03-06T17:36:17.134191Z",
     "shell.execute_reply.started": "2022-03-06T00:38:42.522397Z"
    },
    "papermill": {
     "duration": 0.387102,
     "end_time": "2022-03-06T17:36:17.135007",
     "exception": false,
     "start_time": "2022-03-06T17:36:16.747905",
     "status": "completed"
    },
    "tags": []
   },
   "outputs": [],
   "source": [
    "# import required packages for models\n",
    "from sklearn.model_selection import cross_val_score\n",
    "from sklearn.naive_bayes import GaussianNB\n",
    "from sklearn.linear_model import LogisticRegression\n",
    "from sklearn import tree\n",
    "from sklearn.neighbors import KNeighborsClassifier\n",
    "from sklearn.ensemble import RandomForestClassifier\n",
    "from sklearn.svm import SVC"
   ]
  },
  {
   "cell_type": "markdown",
   "id": "cf0afdec",
   "metadata": {
    "papermill": {
     "duration": 0.098991,
     "end_time": "2022-03-06T17:36:17.340364",
     "exception": false,
     "start_time": "2022-03-06T17:36:17.241373",
     "status": "completed"
    },
    "tags": []
   },
   "source": [
    "## Naive Bayes Model\n",
    "A very simple model and potentially a good baseline.\n",
    "\n",
    "Naive Bayes is used for categorical data. Gaussian Naive Bayes is for continuous data.\n",
    "\n",
    "\n",
    "[Naive Bayes information](https://en.wikipedia.org/wiki/Naive_Bayes_classifier)\n",
    "\n",
    "[Gaussian Naive Bayes information](https://iq.opengenus.org/gaussian-naive-bayes/)"
   ]
  },
  {
   "cell_type": "code",
   "execution_count": 30,
   "id": "d89ba118",
   "metadata": {
    "execution": {
     "iopub.execute_input": "2022-03-06T17:36:17.553743Z",
     "iopub.status.busy": "2022-03-06T17:36:17.553023Z",
     "iopub.status.idle": "2022-03-06T17:36:17.590855Z",
     "shell.execute_reply": "2022-03-06T17:36:17.591381Z",
     "shell.execute_reply.started": "2022-03-06T00:38:42.798923Z"
    },
    "papermill": {
     "duration": 0.147803,
     "end_time": "2022-03-06T17:36:17.591563",
     "exception": false,
     "start_time": "2022-03-06T17:36:17.443760",
     "status": "completed"
    },
    "tags": []
   },
   "outputs": [
    {
     "name": "stdout",
     "output_type": "stream",
     "text": [
      "[0.66853933 0.70224719 0.75842697 0.74719101 0.73446328]\n",
      "0.722 accuracy with a standard deviation of 0.03\n"
     ]
    }
   ],
   "source": [
    "gnb = GaussianNB()\n",
    "cv = cross_val_score(gnb, x_train_scaled, y_train, cv=5)\n",
    "\n",
    "# array of scores of accuracy for each group (5 total)\n",
    "print(cv)\n",
    "\n",
    "# mean value of the scores for all groups\n",
    "print(\"%0.3f accuracy with a standard deviation of %0.2f\" % (cv.mean(), cv.std()))"
   ]
  },
  {
   "cell_type": "markdown",
   "id": "93500665",
   "metadata": {
    "papermill": {
     "duration": 0.097846,
     "end_time": "2022-03-06T17:36:17.787413",
     "exception": false,
     "start_time": "2022-03-06T17:36:17.689567",
     "status": "completed"
    },
    "tags": []
   },
   "source": [
    "## Logistic Regression Model\n",
    "Logistic regression - unscaled and scaled"
   ]
  },
  {
   "cell_type": "code",
   "execution_count": 31,
   "id": "31e2a314",
   "metadata": {
    "execution": {
     "iopub.execute_input": "2022-03-06T17:36:17.993318Z",
     "iopub.status.busy": "2022-03-06T17:36:17.992587Z",
     "iopub.status.idle": "2022-03-06T17:36:19.227097Z",
     "shell.execute_reply": "2022-03-06T17:36:19.224885Z",
     "shell.execute_reply.started": "2022-03-06T00:38:42.844268Z"
    },
    "papermill": {
     "duration": 1.340347,
     "end_time": "2022-03-06T17:36:19.227409",
     "exception": false,
     "start_time": "2022-03-06T17:36:17.887062",
     "status": "completed"
    },
    "tags": []
   },
   "outputs": [
    {
     "name": "stdout",
     "output_type": "stream",
     "text": [
      "[0.82022472 0.80898876 0.80337079 0.82022472 0.85310734]\n",
      "0.821 accuracy with a standard deviation of 0.02\n"
     ]
    }
   ],
   "source": [
    "lr = LogisticRegression(max_iter = 2000)\n",
    "cv = cross_val_score(lr,x_train,y_train,cv=5)\n",
    "\n",
    "# array of scores of accuracy for each group (5 total)\n",
    "print(cv)\n",
    "\n",
    "# mean value of the scores for all groups\n",
    "print(\"%0.3f accuracy with a standard deviation of %0.2f\" % (cv.mean(), cv.std()))"
   ]
  },
  {
   "cell_type": "code",
   "execution_count": 32,
   "id": "24b45294",
   "metadata": {
    "execution": {
     "iopub.execute_input": "2022-03-06T17:36:19.486839Z",
     "iopub.status.busy": "2022-03-06T17:36:19.486153Z",
     "iopub.status.idle": "2022-03-06T17:36:19.741424Z",
     "shell.execute_reply": "2022-03-06T17:36:19.742515Z",
     "shell.execute_reply.started": "2022-03-06T00:38:43.772344Z"
    },
    "papermill": {
     "duration": 0.363502,
     "end_time": "2022-03-06T17:36:19.743038",
     "exception": false,
     "start_time": "2022-03-06T17:36:19.379536",
     "status": "completed"
    },
    "tags": []
   },
   "outputs": [
    {
     "name": "stdout",
     "output_type": "stream",
     "text": [
      "[0.82022472 0.80898876 0.80337079 0.82022472 0.85310734]\n",
      "0.821 accuracy with a standard deviation of 0.02\n"
     ]
    }
   ],
   "source": [
    "lr = LogisticRegression(max_iter = 2000)\n",
    "cv = cross_val_score(lr,x_train_scaled,y_train,cv=5)\n",
    "\n",
    "# array of scores of accuracy for each group (5 total)\n",
    "print(cv)\n",
    "\n",
    "# mean value of the scores for all groups\n",
    "print(\"%0.3f accuracy with a standard deviation of %0.2f\" % (cv.mean(), cv.std()))"
   ]
  },
  {
   "cell_type": "markdown",
   "id": "9e803a0b",
   "metadata": {
    "papermill": {
     "duration": 0.10131,
     "end_time": "2022-03-06T17:36:19.999257",
     "exception": false,
     "start_time": "2022-03-06T17:36:19.897947",
     "status": "completed"
    },
    "tags": []
   },
   "source": [
    "## Decision Tree\n"
   ]
  },
  {
   "cell_type": "code",
   "execution_count": 33,
   "id": "7d23342e",
   "metadata": {
    "execution": {
     "iopub.execute_input": "2022-03-06T17:36:20.207222Z",
     "iopub.status.busy": "2022-03-06T17:36:20.206169Z",
     "iopub.status.idle": "2022-03-06T17:36:20.257175Z",
     "shell.execute_reply": "2022-03-06T17:36:20.256163Z",
     "shell.execute_reply.started": "2022-03-06T00:38:43.997108Z"
    },
    "papermill": {
     "duration": 0.159687,
     "end_time": "2022-03-06T17:36:20.257389",
     "exception": false,
     "start_time": "2022-03-06T17:36:20.097702",
     "status": "completed"
    },
    "tags": []
   },
   "outputs": [
    {
     "name": "stdout",
     "output_type": "stream",
     "text": [
      "[0.74719101 0.74157303 0.80898876 0.75842697 0.82485876]\n",
      "0.776 accuracy with a standard deviation of 0.03\n"
     ]
    }
   ],
   "source": [
    "dt = tree.DecisionTreeClassifier(random_state = 1)\n",
    "cv = cross_val_score(dt, x_train, y_train, cv=5)\n",
    "\n",
    "# array of scores of accuracy for each group (5 total)\n",
    "print(cv)\n",
    "\n",
    "# mean value of the scores for all groups\n",
    "print(\"%0.3f accuracy with a standard deviation of %0.2f\" % (cv.mean(), cv.std()))"
   ]
  },
  {
   "cell_type": "code",
   "execution_count": 34,
   "id": "3a2b3ba4",
   "metadata": {
    "execution": {
     "iopub.execute_input": "2022-03-06T17:36:20.465672Z",
     "iopub.status.busy": "2022-03-06T17:36:20.464964Z",
     "iopub.status.idle": "2022-03-06T17:36:20.519827Z",
     "shell.execute_reply": "2022-03-06T17:36:20.519243Z",
     "shell.execute_reply.started": "2022-03-06T00:38:44.087136Z"
    },
    "papermill": {
     "duration": 0.159882,
     "end_time": "2022-03-06T17:36:20.519980",
     "exception": false,
     "start_time": "2022-03-06T17:36:20.360098",
     "status": "completed"
    },
    "tags": []
   },
   "outputs": [
    {
     "name": "stdout",
     "output_type": "stream",
     "text": [
      "[0.74719101 0.74157303 0.80898876 0.75280899 0.81920904]\n",
      "0.774 accuracy with a standard deviation of 0.03\n"
     ]
    }
   ],
   "source": [
    "dt = tree.DecisionTreeClassifier(random_state = 1)\n",
    "cv = cross_val_score(dt, x_train_scaled, y_train, cv=5)\n",
    "\n",
    "# array of scores of accuracy for each group (5 total)\n",
    "print(cv)\n",
    "\n",
    "# mean value of the scores for all groups\n",
    "print(\"%0.3f accuracy with a standard deviation of %0.2f\" % (cv.mean(), cv.std()))"
   ]
  },
  {
   "cell_type": "markdown",
   "id": "8cf6d45c",
   "metadata": {
    "papermill": {
     "duration": 0.098474,
     "end_time": "2022-03-06T17:36:20.719247",
     "exception": false,
     "start_time": "2022-03-06T17:36:20.620773",
     "status": "completed"
    },
    "tags": []
   },
   "source": [
    "## K Nearest Neighbor\n"
   ]
  },
  {
   "cell_type": "code",
   "execution_count": 35,
   "id": "f60d7551",
   "metadata": {
    "execution": {
     "iopub.execute_input": "2022-03-06T17:36:20.928654Z",
     "iopub.status.busy": "2022-03-06T17:36:20.927333Z",
     "iopub.status.idle": "2022-03-06T17:36:21.076122Z",
     "shell.execute_reply": "2022-03-06T17:36:21.077070Z",
     "shell.execute_reply.started": "2022-03-06T00:38:44.147986Z"
    },
    "papermill": {
     "duration": 0.257119,
     "end_time": "2022-03-06T17:36:21.077367",
     "exception": false,
     "start_time": "2022-03-06T17:36:20.820248",
     "status": "completed"
    },
    "tags": []
   },
   "outputs": [
    {
     "name": "stdout",
     "output_type": "stream",
     "text": [
      "[0.76966292 0.80898876 0.80337079 0.81460674 0.83615819]\n",
      "0.807 accuracy with a standard deviation of 0.02\n"
     ]
    }
   ],
   "source": [
    "knn = KNeighborsClassifier()\n",
    "cv = cross_val_score(knn, x_train, y_train, cv=5)\n",
    "\n",
    "# array of scores of accuracy for each group (5 total)\n",
    "print(cv)\n",
    "\n",
    "# mean value of the scores for all groups\n",
    "print(\"%0.3f accuracy with a standard deviation of %0.2f\" % (cv.mean(), cv.std()))"
   ]
  },
  {
   "cell_type": "code",
   "execution_count": 36,
   "id": "4d3dcc1c",
   "metadata": {
    "execution": {
     "iopub.execute_input": "2022-03-06T17:36:21.368346Z",
     "iopub.status.busy": "2022-03-06T17:36:21.367492Z",
     "iopub.status.idle": "2022-03-06T17:36:21.670043Z",
     "shell.execute_reply": "2022-03-06T17:36:21.671094Z",
     "shell.execute_reply.started": "2022-03-06T00:38:44.28413Z"
    },
    "papermill": {
     "duration": 0.4263,
     "end_time": "2022-03-06T17:36:21.671432",
     "exception": false,
     "start_time": "2022-03-06T17:36:21.245132",
     "status": "completed"
    },
    "tags": []
   },
   "outputs": [
    {
     "name": "stdout",
     "output_type": "stream",
     "text": [
      "[0.79775281 0.79213483 0.83146067 0.80337079 0.85310734]\n",
      "0.816 accuracy with a standard deviation of 0.02\n"
     ]
    }
   ],
   "source": [
    "knn = KNeighborsClassifier()\n",
    "cv = cross_val_score(knn, x_train_scaled, y_train, cv=5)\n",
    "\n",
    "# array of scores of accuracy for each group (5 total)\n",
    "print(cv)\n",
    "\n",
    "# mean value of the scores for all groups\n",
    "print(\"%0.3f accuracy with a standard deviation of %0.2f\" % (cv.mean(), cv.std()))"
   ]
  },
  {
   "cell_type": "markdown",
   "id": "7a5a0319",
   "metadata": {
    "papermill": {
     "duration": 0.103579,
     "end_time": "2022-03-06T17:36:21.942080",
     "exception": false,
     "start_time": "2022-03-06T17:36:21.838501",
     "status": "completed"
    },
    "tags": []
   },
   "source": [
    "## Random Forest\n"
   ]
  },
  {
   "cell_type": "code",
   "execution_count": 37,
   "id": "416dcc94",
   "metadata": {
    "execution": {
     "iopub.execute_input": "2022-03-06T17:36:22.154085Z",
     "iopub.status.busy": "2022-03-06T17:36:22.153062Z",
     "iopub.status.idle": "2022-03-06T17:36:23.308209Z",
     "shell.execute_reply": "2022-03-06T17:36:23.307205Z",
     "shell.execute_reply.started": "2022-03-06T00:38:44.424061Z"
    },
    "papermill": {
     "duration": 1.263624,
     "end_time": "2022-03-06T17:36:23.308425",
     "exception": false,
     "start_time": "2022-03-06T17:36:22.044801",
     "status": "completed"
    },
    "tags": []
   },
   "outputs": [
    {
     "name": "stdout",
     "output_type": "stream",
     "text": [
      "[0.82022472 0.78651685 0.85393258 0.73033708 0.84180791]\n",
      "0.807 accuracy with a standard deviation of 0.04\n"
     ]
    }
   ],
   "source": [
    "rf = RandomForestClassifier(random_state = 1)\n",
    "cv = cross_val_score(rf, x_train, y_train, cv=5)\n",
    "\n",
    "# array of scores of accuracy for each group (5 total)\n",
    "print(cv)\n",
    "\n",
    "# mean value of the scores for all groups\n",
    "print(\"%0.3f accuracy with a standard deviation of %0.2f\" % (cv.mean(), cv.std()))"
   ]
  },
  {
   "cell_type": "code",
   "execution_count": 38,
   "id": "d0e0c4c7",
   "metadata": {
    "execution": {
     "iopub.execute_input": "2022-03-06T17:36:23.514369Z",
     "iopub.status.busy": "2022-03-06T17:36:23.513614Z",
     "iopub.status.idle": "2022-03-06T17:36:24.690682Z",
     "shell.execute_reply": "2022-03-06T17:36:24.691591Z",
     "shell.execute_reply.started": "2022-03-06T00:38:45.504497Z"
    },
    "papermill": {
     "duration": 1.283679,
     "end_time": "2022-03-06T17:36:24.691908",
     "exception": false,
     "start_time": "2022-03-06T17:36:23.408229",
     "status": "completed"
    },
    "tags": []
   },
   "outputs": [
    {
     "name": "stdout",
     "output_type": "stream",
     "text": [
      "[0.81460674 0.78651685 0.85393258 0.73033708 0.84180791]\n",
      "0.805 accuracy with a standard deviation of 0.04\n"
     ]
    }
   ],
   "source": [
    "rf = RandomForestClassifier(random_state = 1)\n",
    "cv = cross_val_score(rf, x_train_scaled, y_train, cv=5)\n",
    "\n",
    "# array of scores of accuracy for each group (5 total)\n",
    "print(cv)\n",
    "\n",
    "# mean value of the scores for all groups\n",
    "print(\"%0.3f accuracy with a standard deviation of %0.2f\" % (cv.mean(), cv.std()))"
   ]
  },
  {
   "cell_type": "markdown",
   "id": "e3e2ab3d",
   "metadata": {
    "papermill": {
     "duration": 0.099064,
     "end_time": "2022-03-06T17:36:24.891485",
     "exception": false,
     "start_time": "2022-03-06T17:36:24.792421",
     "status": "completed"
    },
    "tags": []
   },
   "source": [
    "## Support Vector Classifier\n"
   ]
  },
  {
   "cell_type": "code",
   "execution_count": 39,
   "id": "7ed60623",
   "metadata": {
    "execution": {
     "iopub.execute_input": "2022-03-06T17:36:25.100432Z",
     "iopub.status.busy": "2022-03-06T17:36:25.099463Z",
     "iopub.status.idle": "2022-03-06T17:36:25.706825Z",
     "shell.execute_reply": "2022-03-06T17:36:25.707530Z",
     "shell.execute_reply.started": "2022-03-06T00:38:46.429569Z"
    },
    "papermill": {
     "duration": 0.713782,
     "end_time": "2022-03-06T17:36:25.707802",
     "exception": false,
     "start_time": "2022-03-06T17:36:24.994020",
     "status": "completed"
    },
    "tags": []
   },
   "outputs": [
    {
     "name": "stdout",
     "output_type": "stream",
     "text": [
      "[0.84831461 0.82022472 0.8258427  0.80337079 0.86440678]\n",
      "0.832 accuracy with a standard deviation of 0.02\n"
     ]
    }
   ],
   "source": [
    "svc = SVC(probability = True)\n",
    "cv = cross_val_score(svc, x_train_scaled, y_train, cv=5)\n",
    "\n",
    "# array of scores of accuracy for each group (5 total)\n",
    "print(cv)\n",
    "\n",
    "# mean value of the scores for all groups\n",
    "print(\"%0.3f accuracy with a standard deviation of %0.2f\" % (cv.mean(), cv.std()))"
   ]
  },
  {
   "cell_type": "markdown",
   "id": "6a6dc69d",
   "metadata": {
    "papermill": {
     "duration": 0.099389,
     "end_time": "2022-03-06T17:36:25.906166",
     "exception": false,
     "start_time": "2022-03-06T17:36:25.806777",
     "status": "completed"
    },
    "tags": []
   },
   "source": [
    "## Xtreme Gradient Boosting\n"
   ]
  },
  {
   "cell_type": "code",
   "execution_count": 40,
   "id": "0e056084",
   "metadata": {
    "execution": {
     "iopub.execute_input": "2022-03-06T17:36:26.113201Z",
     "iopub.status.busy": "2022-03-06T17:36:26.112418Z",
     "iopub.status.idle": "2022-03-06T17:36:28.176853Z",
     "shell.execute_reply": "2022-03-06T17:36:28.177938Z",
     "shell.execute_reply.started": "2022-03-06T00:38:47.028971Z"
    },
    "papermill": {
     "duration": 2.172495,
     "end_time": "2022-03-06T17:36:28.178155",
     "exception": false,
     "start_time": "2022-03-06T17:36:26.005660",
     "status": "completed"
    },
    "tags": []
   },
   "outputs": [
    {
     "name": "stderr",
     "output_type": "stream",
     "text": [
      "/opt/conda/lib/python3.7/site-packages/xgboost/sklearn.py:1224: UserWarning: The use of label encoder in XGBClassifier is deprecated and will be removed in a future release. To remove this warning, do the following: 1) Pass option use_label_encoder=False when constructing XGBClassifier object; and 2) Encode your labels (y) as integers starting with 0, i.e. 0, 1, 2, ..., [num_class - 1].\n",
      "  warnings.warn(label_encoder_deprecation_msg, UserWarning)\n"
     ]
    },
    {
     "name": "stdout",
     "output_type": "stream",
     "text": [
      "[17:36:26] WARNING: ../src/learner.cc:1115: Starting in XGBoost 1.3.0, the default evaluation metric used with the objective 'binary:logistic' was changed from 'error' to 'logloss'. Explicitly set eval_metric if you'd like to restore the old behavior.\n"
     ]
    },
    {
     "name": "stderr",
     "output_type": "stream",
     "text": [
      "/opt/conda/lib/python3.7/site-packages/xgboost/sklearn.py:1224: UserWarning: The use of label encoder in XGBClassifier is deprecated and will be removed in a future release. To remove this warning, do the following: 1) Pass option use_label_encoder=False when constructing XGBClassifier object; and 2) Encode your labels (y) as integers starting with 0, i.e. 0, 1, 2, ..., [num_class - 1].\n",
      "  warnings.warn(label_encoder_deprecation_msg, UserWarning)\n"
     ]
    },
    {
     "name": "stdout",
     "output_type": "stream",
     "text": [
      "[17:36:26] WARNING: ../src/learner.cc:1115: Starting in XGBoost 1.3.0, the default evaluation metric used with the objective 'binary:logistic' was changed from 'error' to 'logloss'. Explicitly set eval_metric if you'd like to restore the old behavior.\n"
     ]
    },
    {
     "name": "stderr",
     "output_type": "stream",
     "text": [
      "/opt/conda/lib/python3.7/site-packages/xgboost/sklearn.py:1224: UserWarning: The use of label encoder in XGBClassifier is deprecated and will be removed in a future release. To remove this warning, do the following: 1) Pass option use_label_encoder=False when constructing XGBClassifier object; and 2) Encode your labels (y) as integers starting with 0, i.e. 0, 1, 2, ..., [num_class - 1].\n",
      "  warnings.warn(label_encoder_deprecation_msg, UserWarning)\n"
     ]
    },
    {
     "name": "stdout",
     "output_type": "stream",
     "text": [
      "[17:36:27] WARNING: ../src/learner.cc:1115: Starting in XGBoost 1.3.0, the default evaluation metric used with the objective 'binary:logistic' was changed from 'error' to 'logloss'. Explicitly set eval_metric if you'd like to restore the old behavior.\n"
     ]
    },
    {
     "name": "stderr",
     "output_type": "stream",
     "text": [
      "/opt/conda/lib/python3.7/site-packages/xgboost/sklearn.py:1224: UserWarning: The use of label encoder in XGBClassifier is deprecated and will be removed in a future release. To remove this warning, do the following: 1) Pass option use_label_encoder=False when constructing XGBClassifier object; and 2) Encode your labels (y) as integers starting with 0, i.e. 0, 1, 2, ..., [num_class - 1].\n",
      "  warnings.warn(label_encoder_deprecation_msg, UserWarning)\n"
     ]
    },
    {
     "name": "stdout",
     "output_type": "stream",
     "text": [
      "[17:36:27] WARNING: ../src/learner.cc:1115: Starting in XGBoost 1.3.0, the default evaluation metric used with the objective 'binary:logistic' was changed from 'error' to 'logloss'. Explicitly set eval_metric if you'd like to restore the old behavior.\n"
     ]
    },
    {
     "name": "stderr",
     "output_type": "stream",
     "text": [
      "/opt/conda/lib/python3.7/site-packages/xgboost/sklearn.py:1224: UserWarning: The use of label encoder in XGBClassifier is deprecated and will be removed in a future release. To remove this warning, do the following: 1) Pass option use_label_encoder=False when constructing XGBClassifier object; and 2) Encode your labels (y) as integers starting with 0, i.e. 0, 1, 2, ..., [num_class - 1].\n",
      "  warnings.warn(label_encoder_deprecation_msg, UserWarning)\n"
     ]
    },
    {
     "name": "stdout",
     "output_type": "stream",
     "text": [
      "[17:36:27] WARNING: ../src/learner.cc:1115: Starting in XGBoost 1.3.0, the default evaluation metric used with the objective 'binary:logistic' was changed from 'error' to 'logloss'. Explicitly set eval_metric if you'd like to restore the old behavior.\n",
      "[0.8258427  0.80898876 0.84831461 0.78651685 0.81920904]\n",
      "0.818 accuracy with a standard deviation of 0.02\n"
     ]
    }
   ],
   "source": [
    "# may need to install xgboost\n",
    "import xgboost\n",
    "from xgboost import XGBClassifier\n",
    "\n",
    "xgb = XGBClassifier(random_state = 1)\n",
    "cv = cross_val_score(xgb, x_train_scaled, y_train, cv=5)\n",
    "\n",
    "# array of scores of accuracy for each group (5 total)\n",
    "print(cv)\n",
    "\n",
    "# mean value of the scores for all groups\n",
    "print(\"%0.3f accuracy with a standard deviation of %0.2f\" % (cv.mean(), cv.std()))"
   ]
  },
  {
   "cell_type": "markdown",
   "id": "1eac6ea4",
   "metadata": {
    "papermill": {
     "duration": 0.104406,
     "end_time": "2022-03-06T17:36:28.387579",
     "exception": false,
     "start_time": "2022-03-06T17:36:28.283173",
     "status": "completed"
    },
    "tags": []
   },
   "source": [
    "## Soft Voting Classifier\n",
    "\n",
    "A voting classifier uses several models at once, and then those models 'vote' on whether or not a given person survived.\n",
    "Hard voting means that each model assigns a YES or NO vote, and then the majority determines the result (better for odd numbers of models, otherwise a tie may occur). Soft voting means averaging the confidence of the models and taking the result of that average.\n",
    "\n",
    "Example: for a given person, logistic regression predicts 100% chance of survival, KNN predicts 30% chance of survival, random forest predicts 40% chance of survival.\n",
    "\n",
    "Hard voting says this person **does not** survive (1 YES vote, 2 NO votes)<br>\n",
    "Soft voting says this person **does** survive (average of 100, 30, and 40 is 56.6 > 50%)"
   ]
  },
  {
   "cell_type": "code",
   "execution_count": 41,
   "id": "5de1bebb",
   "metadata": {
    "execution": {
     "iopub.execute_input": "2022-03-06T17:36:28.607124Z",
     "iopub.status.busy": "2022-03-06T17:36:28.606364Z",
     "iopub.status.idle": "2022-03-06T17:36:31.106204Z",
     "shell.execute_reply": "2022-03-06T17:36:31.107230Z",
     "shell.execute_reply.started": "2022-03-06T00:38:49.156446Z"
    },
    "papermill": {
     "duration": 2.612882,
     "end_time": "2022-03-06T17:36:31.107529",
     "exception": false,
     "start_time": "2022-03-06T17:36:28.494647",
     "status": "completed"
    },
    "tags": []
   },
   "outputs": [
    {
     "name": "stdout",
     "output_type": "stream",
     "text": [
      "[0.80337079 0.81460674 0.8258427  0.79775281 0.83615819]\n",
      "0.816 accuracy with a standard deviation of 0.01\n"
     ]
    }
   ],
   "source": [
    "from sklearn.ensemble import VotingClassifier\n",
    "\n",
    "voting_clf_soft = VotingClassifier(estimators = [('lr',lr),('knn',knn),('rf',rf),('gnb',gnb),('svc',svc)], voting = 'soft') \n",
    "cv = cross_val_score(voting_clf_soft, x_train_scaled, y_train, cv=5)\n",
    "\n",
    "# array of scores of accuracy for each group (5 total)\n",
    "print(cv)\n",
    "\n",
    "# mean value of the scores for all groups\n",
    "print(\"%0.3f accuracy with a standard deviation of %0.2f\" % (cv.mean(), cv.std()))"
   ]
  },
  {
   "cell_type": "code",
   "execution_count": 42,
   "id": "07065ef6",
   "metadata": {
    "execution": {
     "iopub.execute_input": "2022-03-06T17:36:31.354584Z",
     "iopub.status.busy": "2022-03-06T17:36:31.353884Z",
     "iopub.status.idle": "2022-03-06T17:36:33.951842Z",
     "shell.execute_reply": "2022-03-06T17:36:33.953700Z",
     "shell.execute_reply.started": "2022-03-06T00:38:51.36534Z"
    },
    "papermill": {
     "duration": 2.713393,
     "end_time": "2022-03-06T17:36:33.954082",
     "exception": false,
     "start_time": "2022-03-06T17:36:31.240689",
     "status": "completed"
    },
    "tags": []
   },
   "outputs": [
    {
     "name": "stdout",
     "output_type": "stream",
     "text": [
      "[0.83146067 0.80898876 0.83707865 0.79775281 0.85310734]\n",
      "0.826 accuracy with a standard deviation of 0.02\n"
     ]
    }
   ],
   "source": [
    "voting_clf_hard = VotingClassifier(estimators = [('lr',lr),('knn',knn),('rf',rf),('gnb',gnb),('svc',svc)], voting = 'hard') \n",
    "cv = cross_val_score(voting_clf_hard, x_train_scaled, y_train, cv=5)\n",
    "\n",
    "# array of scores of accuracy for each group (5 total)\n",
    "print(cv)\n",
    "\n",
    "# mean value of the scores for all groups\n",
    "print(\"%0.3f accuracy with a standard deviation of %0.2f\" % (cv.mean(), cv.std()))"
   ]
  },
  {
   "cell_type": "markdown",
   "id": "8e448f30",
   "metadata": {
    "papermill": {
     "duration": 0.113497,
     "end_time": "2022-03-06T17:36:34.196282",
     "exception": false,
     "start_time": "2022-03-06T17:36:34.082785",
     "status": "completed"
    },
    "tags": []
   },
   "source": [
    "## Model Tuned Performance\n",
    "\n",
    "Now that we have our baseline models, we can investigate if models can be tuned for better performance. Here we will be using GridSearch and Randomized Search to tune models.\n",
    "\n",
    "\n",
    "| Model                     | Baseline | Tuned Performance |\n",
    "|---------------------------|----------|-------------------|\n",
    "| Naive Bayes               | 72.2%    | N/A               |\n",
    "| Logistic Regression       | 82.1%    | 82.6%               |\n",
    "| Decision Tree             | 77.6%    | N/A               |\n",
    "| K Nearest Neighbors       | 81.6%    | 83.0%               |\n",
    "| Random Forest             | 80.7%    | **83.4%**               |\n",
    "| Support Vector Classifier | **83.2%**    | 83.2%               |\n"
   ]
  },
  {
   "cell_type": "code",
   "execution_count": 43,
   "id": "a903f83b",
   "metadata": {
    "execution": {
     "iopub.execute_input": "2022-03-06T17:36:34.416931Z",
     "iopub.status.busy": "2022-03-06T17:36:34.415905Z",
     "iopub.status.idle": "2022-03-06T17:36:34.419103Z",
     "shell.execute_reply": "2022-03-06T17:36:34.418536Z",
     "shell.execute_reply.started": "2022-03-06T00:38:53.576037Z"
    },
    "papermill": {
     "duration": 0.116797,
     "end_time": "2022-03-06T17:36:34.419249",
     "exception": false,
     "start_time": "2022-03-06T17:36:34.302452",
     "status": "completed"
    },
    "tags": []
   },
   "outputs": [],
   "source": [
    "# import relevant modules\n",
    "from sklearn.model_selection import GridSearchCV \n",
    "from sklearn.model_selection import RandomizedSearchCV "
   ]
  },
  {
   "cell_type": "code",
   "execution_count": 44,
   "id": "26f4a032",
   "metadata": {
    "execution": {
     "iopub.execute_input": "2022-03-06T17:36:34.633681Z",
     "iopub.status.busy": "2022-03-06T17:36:34.633029Z",
     "iopub.status.idle": "2022-03-06T17:36:34.636994Z",
     "shell.execute_reply": "2022-03-06T17:36:34.637590Z",
     "shell.execute_reply.started": "2022-03-06T00:38:53.59421Z"
    },
    "papermill": {
     "duration": 0.111696,
     "end_time": "2022-03-06T17:36:34.637818",
     "exception": false,
     "start_time": "2022-03-06T17:36:34.526122",
     "status": "completed"
    },
    "tags": []
   },
   "outputs": [],
   "source": [
    "# a function that will help report tuning information\n",
    "def clf_performance(classifier, model_name):\n",
    "    print(model_name)\n",
    "    print('Best score: ' + str(classifier.best_score_))\n",
    "    print('Best parameters: ' + str(classifier.best_params_))"
   ]
  },
  {
   "cell_type": "code",
   "execution_count": 45,
   "id": "61ac09e3",
   "metadata": {
    "execution": {
     "iopub.execute_input": "2022-03-06T17:36:34.855296Z",
     "iopub.status.busy": "2022-03-06T17:36:34.854342Z",
     "iopub.status.idle": "2022-03-06T17:36:38.689206Z",
     "shell.execute_reply": "2022-03-06T17:36:38.689708Z",
     "shell.execute_reply.started": "2022-03-06T00:38:53.608812Z"
    },
    "papermill": {
     "duration": 3.945035,
     "end_time": "2022-03-06T17:36:38.689921",
     "exception": false,
     "start_time": "2022-03-06T17:36:34.744886",
     "status": "completed"
    },
    "tags": []
   },
   "outputs": [
    {
     "name": "stdout",
     "output_type": "stream",
     "text": [
      "Fitting 5 folds for each of 40 candidates, totalling 200 fits\n",
      "Logistic Regression\n",
      "Best score: 0.8268075922046594\n",
      "Best parameters: {'C': 1.623776739188721, 'max_iter': 2000, 'penalty': 'l1', 'solver': 'liblinear'}\n"
     ]
    }
   ],
   "source": [
    "# logistic regression tuning\n",
    "lr = LogisticRegression()\n",
    "\n",
    "# input parameters to test\n",
    "param_grid = {'max_iter' : [2000],\n",
    "             'penalty' : ['l1', 'l2'], \n",
    "             'C' : np.logspace(-4, 4, 20), \n",
    "             'solver' : ['liblinear']}\n",
    "\n",
    "clf_lr = GridSearchCV(lr, param_grid = param_grid, cv = 5, verbose = True, n_jobs = -1)\n",
    "\n",
    "# return the best parameters that fit this data\n",
    "best_clf_lr = clf_lr.fit(x_train_scaled, y_train)\n",
    "\n",
    "clf_performance(best_clf_lr, 'Logistic Regression')"
   ]
  },
  {
   "cell_type": "code",
   "execution_count": 46,
   "id": "eda36951",
   "metadata": {
    "execution": {
     "iopub.execute_input": "2022-03-06T17:36:38.905473Z",
     "iopub.status.busy": "2022-03-06T17:36:38.904778Z",
     "iopub.status.idle": "2022-03-06T17:36:40.648066Z",
     "shell.execute_reply": "2022-03-06T17:36:40.648597Z",
     "shell.execute_reply.started": "2022-03-06T00:38:57.007725Z"
    },
    "papermill": {
     "duration": 1.851611,
     "end_time": "2022-03-06T17:36:40.648798",
     "exception": false,
     "start_time": "2022-03-06T17:36:38.797187",
     "status": "completed"
    },
    "tags": []
   },
   "outputs": [
    {
     "name": "stdout",
     "output_type": "stream",
     "text": [
      "Fitting 5 folds for each of 48 candidates, totalling 240 fits\n",
      "K Next Neighbors\n",
      "Best score: 0.8301720307243065\n",
      "Best parameters: {'algorithm': 'auto', 'n_neighbors': 7, 'p': 2, 'weights': 'uniform'}\n"
     ]
    }
   ],
   "source": [
    "knn = KNeighborsClassifier()\n",
    "param_grid = {'n_neighbors' : [3, 5, 7, 9], \n",
    "             'weights' : ['uniform', 'distance'], \n",
    "             'algorithm' : ['auto', 'ball_tree', 'kd_tree'], \n",
    "             'p' : [1, 2]}\n",
    "\n",
    "clf_knn = GridSearchCV(knn, param_grid = param_grid, cv = 5, verbose = True, n_jobs = -1)\n",
    "best_clf_knn = clf_knn.fit(x_train_scaled, y_train)\n",
    "clf_performance(best_clf_knn, 'K Next Neighbors')"
   ]
  },
  {
   "cell_type": "code",
   "execution_count": 47,
   "id": "8de86277",
   "metadata": {
    "execution": {
     "iopub.execute_input": "2022-03-06T17:36:40.871372Z",
     "iopub.status.busy": "2022-03-06T17:36:40.870601Z",
     "iopub.status.idle": "2022-03-06T17:39:57.167819Z",
     "shell.execute_reply": "2022-03-06T17:39:57.168447Z",
     "shell.execute_reply.started": "2022-03-06T00:38:58.60896Z"
    },
    "papermill": {
     "duration": 196.414496,
     "end_time": "2022-03-06T17:39:57.168642",
     "exception": false,
     "start_time": "2022-03-06T17:36:40.754146",
     "status": "completed"
    },
    "tags": []
   },
   "outputs": [
    {
     "name": "stdout",
     "output_type": "stream",
     "text": [
      "Fitting 5 folds for each of 55 candidates, totalling 275 fits\n",
      "SVC\n",
      "Best score: 0.8324319177299563\n",
      "Best parameters: {'C': 1, 'gamma': 0.1, 'kernel': 'rbf'}\n"
     ]
    }
   ],
   "source": [
    "svc = SVC(probability = True)\n",
    "param_grid = tuned_parameters = [{'kernel': ['rbf'], 'gamma': [.1,.5,1,2,5,10],'C': [.1, 1, 10, 100, 1000]},\n",
    "                                 {'kernel': ['linear'], 'C': [.1, 1, 10, 100, 1000]},\n",
    "                                 {'kernel': ['poly'], 'degree' : [2,3,4,5], 'C': [.1, 1, 10, 100, 1000]}]\n",
    "clf_svc = GridSearchCV(svc, param_grid = param_grid, cv = 5, verbose = True, n_jobs = -1)\n",
    "best_clf_svc = clf_svc.fit(x_train_scaled,y_train)\n",
    "clf_performance(best_clf_svc,'SVC')"
   ]
  },
  {
   "cell_type": "code",
   "execution_count": 48,
   "id": "d14d6a0f",
   "metadata": {
    "execution": {
     "iopub.execute_input": "2022-03-06T17:39:57.401749Z",
     "iopub.status.busy": "2022-03-06T17:39:57.400639Z",
     "iopub.status.idle": "2022-03-06T17:43:18.417996Z",
     "shell.execute_reply": "2022-03-06T17:43:18.418563Z",
     "shell.execute_reply.started": "2022-03-06T00:42:32.299491Z"
    },
    "papermill": {
     "duration": 201.134279,
     "end_time": "2022-03-06T17:43:18.418791",
     "exception": false,
     "start_time": "2022-03-06T17:39:57.284512",
     "status": "completed"
    },
    "tags": []
   },
   "outputs": [
    {
     "name": "stdout",
     "output_type": "stream",
     "text": [
      "Fitting 5 folds for each of 100 candidates, totalling 500 fits\n",
      "Random Forest (with Randomized Search)\n",
      "Best score: 0.8335301212467467\n",
      "Best parameters: {'n_estimators': 100, 'min_samples_split': 10, 'min_samples_leaf': 2, 'max_features': 'auto', 'max_depth': 20, 'bootstrap': False}\n"
     ]
    }
   ],
   "source": [
    "# the feature space for random forest is large. Use a randomized search to narrow down parameters for the model.\n",
    "# take the best model from these parameters and then do a more granular search.\n",
    "\n",
    "rf = RandomForestClassifier(random_state=1)\n",
    "param_grid = {'n_estimators' : [100, 500, 1000], \n",
    "             'bootstrap' : [True, False], \n",
    "             'max_depth' : [3, 5, 10, 20, 50, 75, 100, None], \n",
    "             'max_features' : ['auto', 'sqrt'], \n",
    "             'min_samples_leaf' : [1, 2, 4, 10], \n",
    "             'min_samples_split' : [2, 5, 10]}\n",
    "\n",
    "\n",
    "#randomizedSearch will use 100 randomized values from the param grid above\n",
    "clf_rf_rnd = RandomizedSearchCV(rf, param_distributions = param_grid, n_iter = 100, cv = 5, verbose = True, n_jobs = -1)\n",
    "\n",
    "# return the best parameters for our data from the randomized search\n",
    "best_clf_rf_rnd = clf_rf_rnd.fit(x_train_scaled, y_train)\n",
    "clf_performance(best_clf_rf_rnd, 'Random Forest (with Randomized Search)')\n"
   ]
  },
  {
   "cell_type": "code",
   "execution_count": 49,
   "id": "0ef4e1d5",
   "metadata": {
    "execution": {
     "iopub.execute_input": "2022-03-06T17:43:18.649995Z",
     "iopub.status.busy": "2022-03-06T17:43:18.648947Z",
     "iopub.status.idle": "2022-03-06T17:46:04.114739Z",
     "shell.execute_reply": "2022-03-06T17:46:04.115289Z",
     "shell.execute_reply.started": "2022-03-06T00:45:17.353815Z"
    },
    "papermill": {
     "duration": 165.586039,
     "end_time": "2022-03-06T17:46:04.115486",
     "exception": false,
     "start_time": "2022-03-06T17:43:18.529447",
     "status": "completed"
    },
    "tags": []
   },
   "outputs": [
    {
     "name": "stdout",
     "output_type": "stream",
     "text": [
      "Fitting 5 folds for each of 288 candidates, totalling 1440 fits\n",
      "Random Forest (granular search)\n",
      "Best score: 0.8335301212467467\n",
      "Best parameters: {'n_estimators': 100, 'min_samples_split': 10, 'min_samples_leaf': 2, 'max_features': 'auto', 'max_depth': 20, 'bootstrap': False}\n"
     ]
    }
   ],
   "source": [
    "# now do a more granular parameter search using results from the randomized search above\n",
    "\n",
    "rf = RandomForestClassifier(random_state=1)\n",
    "param_grid = {'n_estimators' : [50, 100, 150, 200], \n",
    "             'criterion' : ['gini', 'entropy'], \n",
    "             'bootstrap' : [True], \n",
    "             'max_depth' : [15, 20, 25], \n",
    "             'max_features' : ['auto', 'sqrt', 10], \n",
    "             'min_samples_leaf' : [2, 3], \n",
    "             'min_samples_split' : [2, 3]}\n",
    "\n",
    "\n",
    "clf_rf = GridSearchCV(rf, param_grid = param_grid, cv = 5, verbose = True, n_jobs = -1)\n",
    "\n",
    "# return the best parameters for our data from the granular search\n",
    "best_clf_rf = clf_rf.fit(x_train_scaled, y_train)\n",
    "clf_performance(best_clf_rf_rnd, 'Random Forest (granular search)')\n"
   ]
  },
  {
   "cell_type": "code",
   "execution_count": 50,
   "id": "9a7a99ce",
   "metadata": {
    "execution": {
     "iopub.execute_input": "2022-03-06T17:46:04.347211Z",
     "iopub.status.busy": "2022-03-06T17:46:04.346001Z",
     "iopub.status.idle": "2022-03-06T17:46:04.793897Z",
     "shell.execute_reply": "2022-03-06T17:46:04.792820Z",
     "shell.execute_reply.started": "2022-03-06T00:47:27.804584Z"
    },
    "papermill": {
     "duration": 0.566958,
     "end_time": "2022-03-06T17:46:04.794069",
     "exception": false,
     "start_time": "2022-03-06T17:46:04.227111",
     "status": "completed"
    },
    "tags": []
   },
   "outputs": [
    {
     "data": {
      "text/plain": [
       "Text(0.5, 1.0, 'Impact of Features on Model')"
      ]
     },
     "execution_count": 50,
     "metadata": {},
     "output_type": "execute_result"
    },
    {
     "data": {
      "image/png": "[encoded data removed]",
      "text/plain": [
       "<Figure size 432x288 with 1 Axes>"
      ]
     },
     "metadata": {
      "needs_background": "light"
     },
     "output_type": "display_data"
    }
   ],
   "source": [
    "# which features have largest impact on the random forest model?\n",
    "# may help to identify confounding variables for removal - ex. embarked location\n",
    "\n",
    "best_rf = best_clf_rf.best_estimator_.fit(x_train_scaled,y_train)\n",
    "feat_importances = pd.Series(best_rf.feature_importances_, index=x_train_scaled.columns)\n",
    "feat_importances.nlargest(20).plot(kind='barh').set_title('Impact of Features on Model')"
   ]
  },
  {
   "cell_type": "markdown",
   "id": "13c478c8",
   "metadata": {
    "papermill": {
     "duration": 0.111538,
     "end_time": "2022-03-06T17:46:05.019066",
     "exception": false,
     "start_time": "2022-03-06T17:46:04.907528",
     "status": "completed"
    },
    "tags": []
   },
   "source": [
    "## Model Additional Ensemble Approaches\n",
    "\n",
    "\n",
    "Hard Voting Classifier of 3 estimators (KNN, SVC, RF) - 81.7%\n",
    "\n",
    "Soft Voting Classifier of 3 estimators (KNN, SVC, RF) - 82.2%\n",
    "\n",
    "Soft Voting Classifiers of all estimators (KNN, SVC, RF, LR) - **82.6%**"
   ]
  },
  {
   "cell_type": "code",
   "execution_count": 51,
   "id": "374cbe6c",
   "metadata": {
    "execution": {
     "iopub.execute_input": "2022-03-06T17:46:05.255129Z",
     "iopub.status.busy": "2022-03-06T17:46:05.254332Z",
     "iopub.status.idle": "2022-03-06T17:46:05.256731Z",
     "shell.execute_reply": "2022-03-06T17:46:05.257211Z",
     "shell.execute_reply.started": "2022-03-06T00:47:28.219617Z"
    },
    "papermill": {
     "duration": 0.120933,
     "end_time": "2022-03-06T17:46:05.257406",
     "exception": false,
     "start_time": "2022-03-06T17:46:05.136473",
     "status": "completed"
    },
    "tags": []
   },
   "outputs": [],
   "source": [
    "# take the best version of each model\n",
    "\n",
    "best_lr = best_clf_lr.best_estimator_\n",
    "best_knn = best_clf_knn.best_estimator_\n",
    "best_svc = best_clf_svc.best_estimator_\n",
    "best_rf = best_clf_rf.best_estimator_"
   ]
  },
  {
   "cell_type": "code",
   "execution_count": 52,
   "id": "c24d16b3",
   "metadata": {
    "execution": {
     "iopub.execute_input": "2022-03-06T17:46:05.490198Z",
     "iopub.status.busy": "2022-03-06T17:46:05.485959Z",
     "iopub.status.idle": "2022-03-06T17:46:05.491862Z",
     "shell.execute_reply": "2022-03-06T17:46:05.492436Z",
     "shell.execute_reply.started": "2022-03-06T00:47:28.226555Z"
    },
    "papermill": {
     "duration": 0.121441,
     "end_time": "2022-03-06T17:46:05.492631",
     "exception": false,
     "start_time": "2022-03-06T17:46:05.371190",
     "status": "completed"
    },
    "tags": []
   },
   "outputs": [],
   "source": [
    "voting_clf_hard = VotingClassifier(estimators = [('knn',best_knn),('rf',best_rf),('svc',best_svc)], voting = 'hard') \n",
    "voting_clf_soft = VotingClassifier(estimators = [('knn',best_knn),('rf',best_rf),('svc',best_svc)], voting = 'soft') \n",
    "voting_clf_all = VotingClassifier(estimators = [('knn',best_knn),('rf',best_rf),('svc',best_svc), ('lr', best_lr)], voting = 'soft') "
   ]
  },
  {
   "cell_type": "code",
   "execution_count": 53,
   "id": "26048fd0",
   "metadata": {
    "execution": {
     "iopub.execute_input": "2022-03-06T17:46:05.720378Z",
     "iopub.status.busy": "2022-03-06T17:46:05.719648Z",
     "iopub.status.idle": "2022-03-06T17:46:15.938347Z",
     "shell.execute_reply": "2022-03-06T17:46:15.940115Z",
     "shell.execute_reply.started": "2022-03-06T00:47:28.239659Z"
    },
    "papermill": {
     "duration": 10.334864,
     "end_time": "2022-03-06T17:46:15.940423",
     "exception": false,
     "start_time": "2022-03-06T17:46:05.605559",
     "status": "completed"
    },
    "tags": []
   },
   "outputs": [
    {
     "name": "stdout",
     "output_type": "stream",
     "text": [
      "voting_clf_hard : [0.79775281 0.81460674 0.83146067 0.80898876 0.83615819]\n",
      "voting_clf_hard mean : 0.8177934361708881\n",
      "voting_clf_soft : [0.78651685 0.8258427  0.8258427  0.81460674 0.85875706]\n",
      "voting_clf_soft mean : 0.8223132101821875\n",
      "voting_clf_all : [0.80898876 0.8258427  0.82022472 0.81460674 0.86440678]\n",
      "voting_clf_all mean : 0.8268139402018664\n"
     ]
    }
   ],
   "source": [
    "print('voting_clf_hard :',cross_val_score(voting_clf_hard,x_train,y_train,cv=5))\n",
    "print('voting_clf_hard mean :',cross_val_score(voting_clf_hard,x_train,y_train,cv=5).mean())\n",
    "\n",
    "print('voting_clf_soft :',cross_val_score(voting_clf_soft,x_train,y_train,cv=5))\n",
    "print('voting_clf_soft mean :',cross_val_score(voting_clf_soft,x_train,y_train,cv=5).mean())\n",
    "\n",
    "print('voting_clf_all :',cross_val_score(voting_clf_all,x_train,y_train,cv=5))\n",
    "print('voting_clf_all mean :',cross_val_score(voting_clf_all,x_train,y_train,cv=5).mean())\n"
   ]
  },
  {
   "cell_type": "code",
   "execution_count": 54,
   "id": "bb6dd878",
   "metadata": {
    "execution": {
     "iopub.execute_input": "2022-03-06T17:46:16.207664Z",
     "iopub.status.busy": "2022-03-06T17:46:16.206943Z",
     "iopub.status.idle": "2022-03-06T17:46:20.330887Z",
     "shell.execute_reply": "2022-03-06T17:46:20.331989Z",
     "shell.execute_reply.started": "2022-03-06T00:47:37.564403Z"
    },
    "papermill": {
     "duration": 4.248051,
     "end_time": "2022-03-06T17:46:20.332313",
     "exception": false,
     "start_time": "2022-03-06T17:46:16.084262",
     "status": "completed"
    },
    "tags": []
   },
   "outputs": [
    {
     "name": "stdout",
     "output_type": "stream",
     "text": [
      "Fitting 5 folds for each of 7 candidates, totalling 35 fits\n",
      "VC Weights\n",
      "Best score: 0.831321018218752\n",
      "Best parameters: {'weights': [2, 1, 2]}\n"
     ]
    }
   ],
   "source": [
    "#in a soft voting classifier you can weight some models more than others.\n",
    "# use a grid search to explore different weightings\n",
    "\n",
    "params = {'weights' : [[1,1,1],[1,2,1],[1,1,2],[2,1,1],[2,2,1],[1,2,2],[2,1,2]]}\n",
    "\n",
    "vote_weight = GridSearchCV(voting_clf_soft, param_grid = params, cv = 5, verbose = True, n_jobs = -1)\n",
    "best_clf_weight = vote_weight.fit(x_train_scaled,y_train)\n",
    "\n",
    "\n",
    "clf_performance(best_clf_weight,'VC Weights')\n",
    "voting_clf_sub = best_clf_weight.best_estimator_.predict(x_test_scaled)\n",
    "\n",
    "# the best weighting is [1, 1, 1], so no difference from before"
   ]
  },
  {
   "cell_type": "markdown",
   "id": "4eabf75d",
   "metadata": {
    "papermill": {
     "duration": 0.139906,
     "end_time": "2022-03-06T17:46:20.611289",
     "exception": false,
     "start_time": "2022-03-06T17:46:20.471383",
     "status": "completed"
    },
    "tags": []
   },
   "source": [
    "# Creating Predictions\n",
    "\n",
    "Using a chosen model, predict survival on the test data and output to a file that can be submitted for the competition.\n",
    "\n",
    "The model I am going to use is the Soft Voting Classifier for All Tuned Models (KNN, SVC, RF, LR)  -- voting_clf_all"
   ]
  },
  {
   "cell_type": "code",
   "execution_count": 55,
   "id": "0d34d4dd",
   "metadata": {
    "execution": {
     "iopub.execute_input": "2022-03-06T17:46:20.848130Z",
     "iopub.status.busy": "2022-03-06T17:46:20.847449Z",
     "iopub.status.idle": "2022-03-06T17:46:21.230597Z",
     "shell.execute_reply": "2022-03-06T17:46:21.229573Z",
     "shell.execute_reply.started": "2022-03-06T00:47:41.155773Z"
    },
    "papermill": {
     "duration": 0.506168,
     "end_time": "2022-03-06T17:46:21.230858",
     "exception": false,
     "start_time": "2022-03-06T17:46:20.724690",
     "status": "completed"
    },
    "tags": []
   },
   "outputs": [],
   "source": [
    "# model\n",
    "voting_clf_all.fit(x_train_scaled, y_train)\n",
    "\n",
    "# input test data and cast as an int\n",
    "y_hat_vc_all = voting_clf_all.predict(x_test_scaled).astype(int)"
   ]
  },
  {
   "cell_type": "code",
   "execution_count": 56,
   "id": "3647b4d1",
   "metadata": {
    "execution": {
     "iopub.execute_input": "2022-03-06T17:46:21.518458Z",
     "iopub.status.busy": "2022-03-06T17:46:21.517806Z",
     "iopub.status.idle": "2022-03-06T17:46:21.520237Z",
     "shell.execute_reply": "2022-03-06T17:46:21.520885Z",
     "shell.execute_reply.started": "2022-03-06T00:47:41.534025Z"
    },
    "papermill": {
     "duration": 0.122905,
     "end_time": "2022-03-06T17:46:21.521064",
     "exception": false,
     "start_time": "2022-03-06T17:46:21.398159",
     "status": "completed"
    },
    "tags": []
   },
   "outputs": [],
   "source": [
    "#convert output to dataframe \n",
    "final_data = {'PassengerId': test.PassengerId, 'Survived': y_hat_vc_all}\n",
    "submission = pd.DataFrame(data=final_data)"
   ]
  },
  {
   "cell_type": "code",
   "execution_count": 57,
   "id": "f2655a15",
   "metadata": {
    "execution": {
     "iopub.execute_input": "2022-03-06T17:46:21.747189Z",
     "iopub.status.busy": "2022-03-06T17:46:21.746526Z",
     "iopub.status.idle": "2022-03-06T17:46:21.755842Z",
     "shell.execute_reply": "2022-03-06T17:46:21.755122Z",
     "shell.execute_reply.started": "2022-03-06T00:47:41.548342Z"
    },
    "papermill": {
     "duration": 0.123149,
     "end_time": "2022-03-06T17:46:21.756007",
     "exception": false,
     "start_time": "2022-03-06T17:46:21.632858",
     "status": "completed"
    },
    "tags": []
   },
   "outputs": [],
   "source": [
    "#prepare submission files \n",
    "submission.to_csv('submission.csv', index =False)"
   ]
  },
  {
   "cell_type": "code",
   "execution_count": 58,
   "id": "da1b0c68",
   "metadata": {
    "execution": {
     "iopub.execute_input": "2022-03-06T17:46:21.991917Z",
     "iopub.status.busy": "2022-03-06T17:46:21.991218Z",
     "iopub.status.idle": "2022-03-06T17:46:21.995586Z",
     "shell.execute_reply": "2022-03-06T17:46:21.996088Z",
     "shell.execute_reply.started": "2022-03-06T00:47:41.572045Z"
    },
    "papermill": {
     "duration": 0.124217,
     "end_time": "2022-03-06T17:46:21.996270",
     "exception": false,
     "start_time": "2022-03-06T17:46:21.872053",
     "status": "completed"
    },
    "tags": []
   },
   "outputs": [
    {
     "data": {
      "text/plain": [
       "0    262\n",
       "1    156\n",
       "Name: Survived, dtype: int64"
      ]
     },
     "execution_count": 58,
     "metadata": {},
     "output_type": "execute_result"
    }
   ],
   "source": [
    "submission['Survived'].value_counts()\n",
    "\n",
    "# predicting that out of the remaining 418 passengers, 156 survived\n",
    "# accuracy of submission = 78.468%, top 15% of submissions"
   ]
  },
  {
   "cell_type": "code",
   "execution_count": null,
   "id": "c35777e8",
   "metadata": {
    "papermill": {
     "duration": 0.111015,
     "end_time": "2022-03-06T17:46:22.220275",
     "exception": false,
     "start_time": "2022-03-06T17:46:22.109260",
     "status": "completed"
    },
    "tags": []
   },
   "outputs": [],
   "source": []
  }
 ],
 "metadata": {
  "kernelspec": {
   "display_name": "Python 3",
   "language": "python",
   "name": "python3"
  },
  "language_info": {
   "codemirror_mode": {
    "name": "ipython",
    "version": 3
   },
   "file_extension": ".py",
   "mimetype": "text/x-python",
   "name": "python",
   "nbconvert_exporter": "python",
   "pygments_lexer": "ipython3",
   "version": "3.7.12"
  },
  "papermill": {
   "default_parameters": {},
   "duration": 640.030319,
   "end_time": "2022-03-06T17:46:23.249050",
   "environment_variables": {},
   "exception": null,
   "input_path": "__notebook__.ipynb",
   "output_path": "__notebook__.ipynb",
   "parameters": {},
   "start_time": "2022-03-06T17:35:43.218731",
   "version": "2.3.3"
  }
 },
 "nbformat": 4,
 "nbformat_minor": 5
}
